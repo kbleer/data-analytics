{
 "cells": [
  {
   "cell_type": "markdown",
   "metadata": {},
   "source": [
    "설문지 응답자의 기본 정보 및 비식별 응답을 기반으로 '정치 성향' 예측하기\n",
    "===\n",
    "이규봉\n",
    "==="
   ]
  },
  {
   "cell_type": "markdown",
   "metadata": {},
   "source": [
    "### 본 프로젝트에서는 ideo_self, 즉 응답자가 생각하는 자신의 정치 성향을 0부터 10까지 순서를 가진 클래스로 설정하였습니다. 이러한 반응 변수를 분류 예측하는 선형판별분석(Linear Discriminanat Analysis)을 중점으로 진행합니다."
   ]
  },
  {
   "cell_type": "code",
   "execution_count": 19,
   "metadata": {
    "collapsed": true
   },
   "outputs": [],
   "source": [
    "setwd('C:/Users/User/Desktop/마이닝/exam')"
   ]
  },
  {
   "cell_type": "code",
   "execution_count": 20,
   "metadata": {},
   "outputs": [
    {
     "data": {
      "text/html": [
       "<strong>null device:</strong> 1"
      ],
      "text/latex": [
       "\\textbf{null device:} 1"
      ],
      "text/markdown": [
       "**null device:** 1"
      ],
      "text/plain": [
       "null device \n",
       "          1 "
      ]
     },
     "metadata": {},
     "output_type": "display_data"
    }
   ],
   "source": [
    "dev.off()\n",
    "rm(list = ls())"
   ]
  },
  {
   "cell_type": "code",
   "execution_count": 21,
   "metadata": {
    "collapsed": true
   },
   "outputs": [],
   "source": [
    "library(xlsx)\n",
    "data0 = read.xlsx('data1.xlsx', 1, header = T, startRow = 2)"
   ]
  },
  {
   "cell_type": "markdown",
   "metadata": {},
   "source": [
    "--------------------------"
   ]
  },
  {
   "cell_type": "markdown",
   "metadata": {},
   "source": [
    "데이터를 불러와 변수들을 numeric화 합니다. 반응변수인 ideo_self는 factor로 변경 합니다."
   ]
  },
  {
   "cell_type": "code",
   "execution_count": 22,
   "metadata": {},
   "outputs": [
    {
     "name": "stderr",
     "output_type": "stream",
     "text": [
      "Warning message in eval(expr, envir, enclos):\n",
      "\"강제형변환에 의해 생성된 NA 입니다\"Warning message in eval(expr, envir, enclos):\n",
      "\"강제형변환에 의해 생성된 NA 입니다\"Warning message in eval(expr, envir, enclos):\n",
      "\"강제형변환에 의해 생성된 NA 입니다\"Warning message in eval(expr, envir, enclos):\n",
      "\"강제형변환에 의해 생성된 NA 입니다\"Warning message in eval(expr, envir, enclos):\n",
      "\"강제형변환에 의해 생성된 NA 입니다\"Warning message in eval(expr, envir, enclos):\n",
      "\"강제형변환에 의해 생성된 NA 입니다\"Warning message in eval(expr, envir, enclos):\n",
      "\"강제형변환에 의해 생성된 NA 입니다\"Warning message in eval(expr, envir, enclos):\n",
      "\"강제형변환에 의해 생성된 NA 입니다\"Warning message in eval(expr, envir, enclos):\n",
      "\"강제형변환에 의해 생성된 NA 입니다\"Warning message in eval(expr, envir, enclos):\n",
      "\"강제형변환에 의해 생성된 NA 입니다\"Warning message in eval(expr, envir, enclos):\n",
      "\"강제형변환에 의해 생성된 NA 입니다\"Warning message in eval(expr, envir, enclos):\n",
      "\"강제형변환에 의해 생성된 NA 입니다\"Warning message in eval(expr, envir, enclos):\n",
      "\"강제형변환에 의해 생성된 NA 입니다\"Warning message in eval(expr, envir, enclos):\n",
      "\"강제형변환에 의해 생성된 NA 입니다\"Warning message in eval(expr, envir, enclos):\n",
      "\"강제형변환에 의해 생성된 NA 입니다\"Warning message in eval(expr, envir, enclos):\n",
      "\"강제형변환에 의해 생성된 NA 입니다\"Warning message in eval(expr, envir, enclos):\n",
      "\"강제형변환에 의해 생성된 NA 입니다\"Warning message in eval(expr, envir, enclos):\n",
      "\"강제형변환에 의해 생성된 NA 입니다\"Warning message in eval(expr, envir, enclos):\n",
      "\"강제형변환에 의해 생성된 NA 입니다\"Warning message in eval(expr, envir, enclos):\n",
      "\"강제형변환에 의해 생성된 NA 입니다\""
     ]
    }
   ],
   "source": [
    "for (i in 1:ncol(data0)) {\n",
    "  data0[,i] <- as.character(data0[,i])\n",
    "  data0[,i] <- as.numeric(data0[,i])\n",
    "}\n",
    "data0$ideo_self <- as.factor(data0$ideo_self)"
   ]
  },
  {
   "cell_type": "markdown",
   "metadata": {},
   "source": [
    "--------------------------"
   ]
  },
  {
   "cell_type": "markdown",
   "metadata": {},
   "source": [
    "응답자의 신상정보에 관한 변수들 간 상관관계를 파악해봅니다. 모든 변수들의 상관 관계를 파악한 결과, age, age1, birth 세개의 연령과 연관된 변수들의 강한 상관관계가 포착됩니다. "
   ]
  },
  {
   "cell_type": "code",
   "execution_count": 23,
   "metadata": {},
   "outputs": [
    {
     "data": {
      "text/html": [
       "0.973327480319744"
      ],
      "text/latex": [
       "0.973327480319744"
      ],
      "text/markdown": [
       "0.973327480319744"
      ],
      "text/plain": [
       "[1] 0.9733275"
      ]
     },
     "metadata": {},
     "output_type": "display_data"
    },
    {
     "data": {
      "text/html": [
       "-0.973327480319744"
      ],
      "text/latex": [
       "-0.973327480319744"
      ],
      "text/markdown": [
       "-0.973327480319744"
      ],
      "text/plain": [
       "[1] -0.9733275"
      ]
     },
     "metadata": {},
     "output_type": "display_data"
    }
   ],
   "source": [
    "cor(data0$age, data0$age1, use = 'pairwise.complete.obs')\n",
    "cor(data0$birth, data0$age, use = 'pairwise.complete.obs')"
   ]
  },
  {
   "cell_type": "markdown",
   "metadata": {},
   "source": [
    "--------------------------"
   ]
  },
  {
   "cell_type": "markdown",
   "metadata": {},
   "source": [
    "높은 해석력을 얻고 과적합을 방지하기 위해, 연령대를 구간화한 age 변수만을 사용합니다. 또한 분석에 필요없는 열(NA, id)을 삭제합니다."
   ]
  },
  {
   "cell_type": "code",
   "execution_count": 24,
   "metadata": {},
   "outputs": [
    {
     "data": {
      "text/html": [
       "<ol class=list-inline>\n",
       "\t<li>'sex'</li>\n",
       "\t<li>'birth'</li>\n",
       "\t<li>'age1'</li>\n",
       "\t<li>'age'</li>\n",
       "\t<li>'area'</li>\n",
       "\t<li>'edu'</li>\n",
       "\t<li>'income'</li>\n",
       "\t<li>'k2'</li>\n",
       "\t<li>'k3'</li>\n",
       "\t<li>'k4'</li>\n",
       "\t<li>'k6'</li>\n",
       "\t<li>'k7'</li>\n",
       "\t<li>'k8'</li>\n",
       "\t<li>'k10'</li>\n",
       "\t<li>'k12'</li>\n",
       "\t<li>'k13'</li>\n",
       "\t<li>'k14'</li>\n",
       "\t<li>'ideo_self'</li>\n",
       "</ol>\n"
      ],
      "text/latex": [
       "\\begin{enumerate*}\n",
       "\\item 'sex'\n",
       "\\item 'birth'\n",
       "\\item 'age1'\n",
       "\\item 'age'\n",
       "\\item 'area'\n",
       "\\item 'edu'\n",
       "\\item 'income'\n",
       "\\item 'k2'\n",
       "\\item 'k3'\n",
       "\\item 'k4'\n",
       "\\item 'k6'\n",
       "\\item 'k7'\n",
       "\\item 'k8'\n",
       "\\item 'k10'\n",
       "\\item 'k12'\n",
       "\\item 'k13'\n",
       "\\item 'k14'\n",
       "\\item 'ideo\\_self'\n",
       "\\end{enumerate*}\n"
      ],
      "text/markdown": [
       "1. 'sex'\n",
       "2. 'birth'\n",
       "3. 'age1'\n",
       "4. 'age'\n",
       "5. 'area'\n",
       "6. 'edu'\n",
       "7. 'income'\n",
       "8. 'k2'\n",
       "9. 'k3'\n",
       "10. 'k4'\n",
       "11. 'k6'\n",
       "12. 'k7'\n",
       "13. 'k8'\n",
       "14. 'k10'\n",
       "15. 'k12'\n",
       "16. 'k13'\n",
       "17. 'k14'\n",
       "18. 'ideo_self'\n",
       "\n",
       "\n"
      ],
      "text/plain": [
       " [1] \"sex\"       \"birth\"     \"age1\"      \"age\"       \"area\"      \"edu\"      \n",
       " [7] \"income\"    \"k2\"        \"k3\"        \"k4\"        \"k6\"        \"k7\"       \n",
       "[13] \"k8\"        \"k10\"       \"k12\"       \"k13\"       \"k14\"       \"ideo_self\""
      ]
     },
     "metadata": {},
     "output_type": "display_data"
    },
    {
     "data": {
      "text/html": [
       "<ol class=list-inline>\n",
       "\t<li>'sex'</li>\n",
       "\t<li>'age'</li>\n",
       "\t<li>'area'</li>\n",
       "\t<li>'edu'</li>\n",
       "\t<li>'income'</li>\n",
       "\t<li>'k2'</li>\n",
       "\t<li>'k3'</li>\n",
       "\t<li>'k4'</li>\n",
       "\t<li>'k6'</li>\n",
       "\t<li>'k7'</li>\n",
       "\t<li>'k8'</li>\n",
       "\t<li>'k10'</li>\n",
       "\t<li>'k12'</li>\n",
       "\t<li>'k13'</li>\n",
       "\t<li>'k14'</li>\n",
       "\t<li>'ideo_self'</li>\n",
       "</ol>\n"
      ],
      "text/latex": [
       "\\begin{enumerate*}\n",
       "\\item 'sex'\n",
       "\\item 'age'\n",
       "\\item 'area'\n",
       "\\item 'edu'\n",
       "\\item 'income'\n",
       "\\item 'k2'\n",
       "\\item 'k3'\n",
       "\\item 'k4'\n",
       "\\item 'k6'\n",
       "\\item 'k7'\n",
       "\\item 'k8'\n",
       "\\item 'k10'\n",
       "\\item 'k12'\n",
       "\\item 'k13'\n",
       "\\item 'k14'\n",
       "\\item 'ideo\\_self'\n",
       "\\end{enumerate*}\n"
      ],
      "text/markdown": [
       "1. 'sex'\n",
       "2. 'age'\n",
       "3. 'area'\n",
       "4. 'edu'\n",
       "5. 'income'\n",
       "6. 'k2'\n",
       "7. 'k3'\n",
       "8. 'k4'\n",
       "9. 'k6'\n",
       "10. 'k7'\n",
       "11. 'k8'\n",
       "12. 'k10'\n",
       "13. 'k12'\n",
       "14. 'k13'\n",
       "15. 'k14'\n",
       "16. 'ideo_self'\n",
       "\n",
       "\n"
      ],
      "text/plain": [
       " [1] \"sex\"       \"age\"       \"area\"      \"edu\"       \"income\"    \"k2\"       \n",
       " [7] \"k3\"        \"k4\"        \"k6\"        \"k7\"        \"k8\"        \"k10\"      \n",
       "[13] \"k12\"       \"k13\"       \"k14\"       \"ideo_self\""
      ]
     },
     "metadata": {},
     "output_type": "display_data"
    }
   ],
   "source": [
    "data0<-data0[,3:ncol(data0)]\n",
    "colnames(data0)\n",
    "data0<-data0[,-2]\n",
    "data0<-data0[,-2]\n",
    "colnames(data0)"
   ]
  },
  {
   "cell_type": "markdown",
   "metadata": {},
   "source": [
    "--------------------------"
   ]
  },
  {
   "cell_type": "markdown",
   "metadata": {},
   "source": [
    "변수 k3에 -1을 적용합니다."
   ]
  },
  {
   "cell_type": "code",
   "execution_count": 25,
   "metadata": {
    "collapsed": true
   },
   "outputs": [],
   "source": [
    "data0[,7] <- data0[,7] - 1"
   ]
  },
  {
   "cell_type": "markdown",
   "metadata": {},
   "source": [
    "--------------------------"
   ]
  },
  {
   "cell_type": "markdown",
   "metadata": {},
   "source": [
    "585행의 데이터는 모든 변수가 결측치입니다. 삭제합니다."
   ]
  },
  {
   "cell_type": "code",
   "execution_count": 26,
   "metadata": {
    "collapsed": true
   },
   "outputs": [],
   "source": [
    "data0 <- data0[-585,]"
   ]
  },
  {
   "cell_type": "markdown",
   "metadata": {},
   "source": [
    "--------------------------"
   ]
  },
  {
   "cell_type": "markdown",
   "metadata": {},
   "source": [
    "이번에는 k 질문항목 변수들 간 상관성을 파악합니다. 카이제곱 검정을 통해, 두 변수 사이의 연관성이 없는지 p 값으로 확인해봅니다. 모든 k 변수들을 1:1로 카이제곱 검정 해본 결과, k14변수가 k7, 8, 13 변수와 독립이 아닌 것으로 나타났습니다. 이에 k14 변수를 분석에 사용하지 않습니다."
   ]
  },
  {
   "cell_type": "code",
   "execution_count": 27,
   "metadata": {},
   "outputs": [
    {
     "data": {
      "text/plain": [
       "\n",
       "\tPearson's Chi-squared test with Yates' continuity correction\n",
       "\n",
       "data:  data0$k7 and data0$k14\n",
       "X-squared = 0.010859, df = 1, p-value = 0.917\n"
      ]
     },
     "metadata": {},
     "output_type": "display_data"
    },
    {
     "data": {
      "text/plain": [
       "\n",
       "\tPearson's Chi-squared test with Yates' continuity correction\n",
       "\n",
       "data:  data0$k8 and data0$k14\n",
       "X-squared = 2.444, df = 1, p-value = 0.118\n"
      ]
     },
     "metadata": {},
     "output_type": "display_data"
    },
    {
     "data": {
      "text/plain": [
       "\n",
       "\tPearson's Chi-squared test with Yates' continuity correction\n",
       "\n",
       "data:  data0$k13 and data0$k14\n",
       "X-squared = 0.20083, df = 1, p-value = 0.6541\n"
      ]
     },
     "metadata": {},
     "output_type": "display_data"
    }
   ],
   "source": [
    "chisq.test(data0$k7, data0$k14)\n",
    "chisq.test(data0$k8, data0$k14)\n",
    "chisq.test(data0$k13, data0$k14)\n",
    "\n",
    "data0 <- data0[, -15]"
   ]
  },
  {
   "cell_type": "code",
   "execution_count": 28,
   "metadata": {},
   "outputs": [
    {
     "data": {
      "text/html": [
       "<ol class=list-inline>\n",
       "\t<li>'sex'</li>\n",
       "\t<li>'age'</li>\n",
       "\t<li>'area'</li>\n",
       "\t<li>'edu'</li>\n",
       "\t<li>'income'</li>\n",
       "\t<li>'k2'</li>\n",
       "\t<li>'k3'</li>\n",
       "\t<li>'k4'</li>\n",
       "\t<li>'k6'</li>\n",
       "\t<li>'k7'</li>\n",
       "\t<li>'k8'</li>\n",
       "\t<li>'k10'</li>\n",
       "\t<li>'k12'</li>\n",
       "\t<li>'k13'</li>\n",
       "\t<li>'ideo_self'</li>\n",
       "</ol>\n"
      ],
      "text/latex": [
       "\\begin{enumerate*}\n",
       "\\item 'sex'\n",
       "\\item 'age'\n",
       "\\item 'area'\n",
       "\\item 'edu'\n",
       "\\item 'income'\n",
       "\\item 'k2'\n",
       "\\item 'k3'\n",
       "\\item 'k4'\n",
       "\\item 'k6'\n",
       "\\item 'k7'\n",
       "\\item 'k8'\n",
       "\\item 'k10'\n",
       "\\item 'k12'\n",
       "\\item 'k13'\n",
       "\\item 'ideo\\_self'\n",
       "\\end{enumerate*}\n"
      ],
      "text/markdown": [
       "1. 'sex'\n",
       "2. 'age'\n",
       "3. 'area'\n",
       "4. 'edu'\n",
       "5. 'income'\n",
       "6. 'k2'\n",
       "7. 'k3'\n",
       "8. 'k4'\n",
       "9. 'k6'\n",
       "10. 'k7'\n",
       "11. 'k8'\n",
       "12. 'k10'\n",
       "13. 'k12'\n",
       "14. 'k13'\n",
       "15. 'ideo_self'\n",
       "\n",
       "\n"
      ],
      "text/plain": [
       " [1] \"sex\"       \"age\"       \"area\"      \"edu\"       \"income\"    \"k2\"       \n",
       " [7] \"k3\"        \"k4\"        \"k6\"        \"k7\"        \"k8\"        \"k10\"      \n",
       "[13] \"k12\"       \"k13\"       \"ideo_self\""
      ]
     },
     "metadata": {},
     "output_type": "display_data"
    }
   ],
   "source": [
    "colnames(data0)"
   ]
  },
  {
   "cell_type": "markdown",
   "metadata": {},
   "source": [
    "------------------------------------------------------"
   ]
  },
  {
   "cell_type": "markdown",
   "metadata": {},
   "source": [
    "이제 데이터 내 결측치들을 대체합니다. 결측치를 해결하고자 Amelia 패키지를 이용합니다. Amelia 패키지는 multiple imputation을 수행하는 패키지로써, Bootstrapping과 Expectation-Maximization algorithm을 통해 'k 문항에 대한 응답들의 결측치'를 대치합니다. training set으로 적합한 모델을 복수의 validation sets에 적용하며 CV 작업을 수행해 검정력을 산출하고자 이 접근법을 채택했습니다."
   ]
  },
  {
   "cell_type": "code",
   "execution_count": 29,
   "metadata": {},
   "outputs": [
    {
     "name": "stdout",
     "output_type": "stream",
     "text": [
      "-- Imputation 1 --\n",
      "\n",
      "  1  2  3  4  5  6  7  8  9\n",
      "\n",
      "-- Imputation 2 --\n",
      "\n",
      "  1  2  3  4  5  6  7  8\n",
      "\n",
      "-- Imputation 3 --\n",
      "\n",
      "  1  2  3  4  5  6  7  8\n",
      "\n",
      "-- Imputation 4 --\n",
      "\n",
      "  1  2  3  4  5  6  7  8\n",
      "\n",
      "-- Imputation 5 --\n",
      "\n",
      "  1  2  3  4  5  6  7  8  9\n",
      "\n"
     ]
    }
   ],
   "source": [
    "library(Amelia)\n",
    "set.seed(1234)\n",
    "imputed.k <- amelia(x=data0[,1:14], m = 5, ords = c('k2', 'k3', 'k4', 'k6', 'k7', 'k8', 'k10', 'k12', 'k13'))"
   ]
  },
  {
   "cell_type": "markdown",
   "metadata": {},
   "source": [
    "--------------------------"
   ]
  },
  {
   "cell_type": "markdown",
   "metadata": {},
   "source": [
    "amelia() 결과 5개의 데이터 셋이 어떻게 imputation 되었는지 그래프로 살펴봅니다. 빨간색 선이 각 변수들의 결측치가 어떻게 대체되었는지 나타내고 있습니다."
   ]
  },
  {
   "cell_type": "code",
   "execution_count": 30,
   "metadata": {},
   "outputs": [
    {
     "data": {
      "image/png": "[encoded data removed]",
      "text/plain": [
       "Plot with title \"Observed and Imputed values of k13\""
      ]
     },
     "metadata": {},
     "output_type": "display_data"
    }
   ],
   "source": [
    "par(mfrow = c(3, 3))\n",
    "plot(imputed.k)"
   ]
  },
  {
   "cell_type": "markdown",
   "metadata": {},
   "source": [
    "--------------------------"
   ]
  },
  {
   "cell_type": "markdown",
   "metadata": {},
   "source": [
    "imputaion 과정을 거친 5개의 데이터 셋을 파일로 저장하고, 다시 로딩합니다.\n",
    "결과물에 새로 들어간 index 열을 삭제 합니다. 그리고 원본 ideo_self 열을 각 데이터셋에 합치는 작업을 수행합니다."
   ]
  },
  {
   "cell_type": "code",
   "execution_count": 31,
   "metadata": {
    "collapsed": true
   },
   "outputs": [],
   "source": [
    "write.amelia(imputed.k, separate = T, 'imputed', extension = NULL, format = 'csv')\n",
    "\n",
    "imp1 <- read.table('imputed1', header = T, sep = ',', na.strings = 'NA', dec = '.', strip.white = T)\n",
    "imp2 <- read.table('imputed2', header = T, sep = ',', na.strings = 'NA', dec = '.', strip.white = T)\n",
    "imp3 <- read.table('imputed3', header = T, sep = ',', na.strings = 'NA', dec = '.', strip.white = T)\n",
    "imp4 <- read.table('imputed4', header = T, sep = ',', na.strings = 'NA', dec = '.', strip.white = T)\n",
    "imp5 <- read.table('imputed5', header = T, sep = ',', na.strings = 'NA', dec = '.', strip.white = T)\n",
    "\n",
    "#deletion imps' index col and adding ideo_self\n",
    "imp1 <- imp1[, 2:ncol(imp1)]\n",
    "imp1$ideo_self <- data0$ideo_self\n",
    "\n",
    "imp2 <- imp2[, 2:ncol(imp2)]\n",
    "imp2$ideo_self <- data0$ideo_self\n",
    "\n",
    "imp3 <- imp3[, 2:ncol(imp3)]\n",
    "imp3$ideo_self <- data0$ideo_self\n",
    "\n",
    "imp4 <- imp4[, 2:ncol(imp4)]\n",
    "imp4$ideo_self <- data0$ideo_self\n",
    "\n",
    "imp5 <- imp5[, 2:ncol(imp5)]\n",
    "imp5$ideo_self <- data0$ideo_self"
   ]
  },
  {
   "cell_type": "markdown",
   "metadata": {},
   "source": [
    "--------------------------"
   ]
  },
  {
   "cell_type": "markdown",
   "metadata": {},
   "source": [
    "'imp1'부터 'imp5'까지, 결측치 값을 Amelia 함수로 대체한 데이터 셋을 training set, validation set, test set으로 나눕니다. training set과 validation set은 반응변수 결과를 알고 있는 899행까지의 데이터를 6:4의 비율로 랜덤하게 나눕니다."
   ]
  },
  {
   "cell_type": "code",
   "execution_count": 32,
   "metadata": {
    "collapsed": true
   },
   "outputs": [],
   "source": [
    "n = nrow(imp1[1:899,])\n",
    "set.seed(1234)\n",
    "trainIndex = sample(1:n, size = round(0.6*n), replace=FALSE)\n",
    "tr.set = imp1[1:899,][trainIndex ,]\n",
    "val.set = imp1[1:899,][-trainIndex ,]\n",
    "\n",
    "tr.set2 = imp2[1:899,][trainIndex ,]\n",
    "val.set2 = imp2[1:899,][-trainIndex ,]\n",
    "\n",
    "tr.set3 = imp3[1:899,][trainIndex ,]\n",
    "val.set3 = imp3[1:899,][-trainIndex ,]\n",
    "\n",
    "tr.set4 = imp4[1:899,][trainIndex ,]\n",
    "val.set4 = imp4[1:899,][-trainIndex ,]\n",
    "\n",
    "tr.set5 = imp5[1:899,][trainIndex ,]\n",
    "val.set5 = imp5[1:899,][-trainIndex ,]\n",
    "\n",
    "test.set <- imp1[900:nrow(data0),]\n",
    "test.set2 <- imp2[900:nrow(data0),]\n",
    "test.set3 <- imp3[900:nrow(data0),]\n",
    "test.set4 <- imp4[900:nrow(data0),]\n",
    "test.set5 <- imp5[900:nrow(data0),]"
   ]
  },
  {
   "cell_type": "markdown",
   "metadata": {},
   "source": [
    "--------------------------"
   ]
  },
  {
   "cell_type": "markdown",
   "metadata": {},
   "source": [
    "이제 선형판별 분석을 각각의 데이터셋으로 수행합니다. 5개 각각의 데이터셋으로 적합된 모델로 1개의 validation set(val.set)을 예측 후 정확도를 측정합니다."
   ]
  },
  {
   "cell_type": "code",
   "execution_count": 33,
   "metadata": {
    "collapsed": true
   },
   "outputs": [],
   "source": [
    "library(MASS)\n",
    "set.seed(1234)\n",
    "lda.fit <- lda(ideo_self ~., data = tr.set)\n",
    "lda.fit2 <- lda(ideo_self ~., data = tr.set2)\n",
    "lda.fit3 <- lda(ideo_self ~., data = tr.set3)\n",
    "lda.fit4 <- lda(ideo_self ~., data = tr.set4)\n",
    "lda.fit5 <- lda(ideo_self ~., data = tr.set5)\n",
    "\n",
    "lda.pred <- predict(lda.fit, newdata = val.set)\n",
    "lda.pred2 <- predict(lda.fit2, newdata = val.set)\n",
    "lda.pred3 <- predict(lda.fit3, newdata = val.set)\n",
    "lda.pred4 <- predict(lda.fit4, newdata = val.set)\n",
    "lda.pred5 <- predict(lda.fit5, newdata = val.set)"
   ]
  },
  {
   "cell_type": "code",
   "execution_count": 34,
   "metadata": {},
   "outputs": [
    {
     "data": {
      "text/html": [
       "0.277777777777778"
      ],
      "text/latex": [
       "0.277777777777778"
      ],
      "text/markdown": [
       "0.277777777777778"
      ],
      "text/plain": [
       "[1] 0.2777778"
      ]
     },
     "metadata": {},
     "output_type": "display_data"
    },
    {
     "data": {
      "text/html": [
       "0.297222222222222"
      ],
      "text/latex": [
       "0.297222222222222"
      ],
      "text/markdown": [
       "0.297222222222222"
      ],
      "text/plain": [
       "[1] 0.2972222"
      ]
     },
     "metadata": {},
     "output_type": "display_data"
    },
    {
     "data": {
      "text/html": [
       "0.288888888888889"
      ],
      "text/latex": [
       "0.288888888888889"
      ],
      "text/markdown": [
       "0.288888888888889"
      ],
      "text/plain": [
       "[1] 0.2888889"
      ]
     },
     "metadata": {},
     "output_type": "display_data"
    },
    {
     "data": {
      "text/html": [
       "0.294444444444444"
      ],
      "text/latex": [
       "0.294444444444444"
      ],
      "text/markdown": [
       "0.294444444444444"
      ],
      "text/plain": [
       "[1] 0.2944444"
      ]
     },
     "metadata": {},
     "output_type": "display_data"
    },
    {
     "data": {
      "text/html": [
       "0.286111111111111"
      ],
      "text/latex": [
       "0.286111111111111"
      ],
      "text/markdown": [
       "0.286111111111111"
      ],
      "text/plain": [
       "[1] 0.2861111"
      ]
     },
     "metadata": {},
     "output_type": "display_data"
    },
    {
     "data": {
      "text/html": [
       "0.722222222222222"
      ],
      "text/latex": [
       "0.722222222222222"
      ],
      "text/markdown": [
       "0.722222222222222"
      ],
      "text/plain": [
       "[1] 0.7222222"
      ]
     },
     "metadata": {},
     "output_type": "display_data"
    },
    {
     "data": {
      "text/html": [
       "0.702777777777778"
      ],
      "text/latex": [
       "0.702777777777778"
      ],
      "text/markdown": [
       "0.702777777777778"
      ],
      "text/plain": [
       "[1] 0.7027778"
      ]
     },
     "metadata": {},
     "output_type": "display_data"
    },
    {
     "data": {
      "text/html": [
       "0.711111111111111"
      ],
      "text/latex": [
       "0.711111111111111"
      ],
      "text/markdown": [
       "0.711111111111111"
      ],
      "text/plain": [
       "[1] 0.7111111"
      ]
     },
     "metadata": {},
     "output_type": "display_data"
    },
    {
     "data": {
      "text/html": [
       "0.705555555555556"
      ],
      "text/latex": [
       "0.705555555555556"
      ],
      "text/markdown": [
       "0.705555555555556"
      ],
      "text/plain": [
       "[1] 0.7055556"
      ]
     },
     "metadata": {},
     "output_type": "display_data"
    },
    {
     "data": {
      "text/html": [
       "0.713888888888889"
      ],
      "text/latex": [
       "0.713888888888889"
      ],
      "text/markdown": [
       "0.713888888888889"
      ],
      "text/plain": [
       "[1] 0.7138889"
      ]
     },
     "metadata": {},
     "output_type": "display_data"
    }
   ],
   "source": [
    "mean(lda.pred$class == val.set$ideo_self)\n",
    "mean(lda.pred2$class == val.set$ideo_self)\n",
    "mean(lda.pred3$class == val.set$ideo_self)\n",
    "mean(lda.pred4$class == val.set$ideo_self)\n",
    "mean(lda.pred5$class == val.set5$ideo_self)\n",
    "\n",
    "mean(lda.pred$class != val.set$ideo_self)\n",
    "mean(lda.pred2$class != val.set$ideo_self)\n",
    "mean(lda.pred3$class != val.set$ideo_self)\n",
    "mean(lda.pred4$class != val.set$ideo_self)\n",
    "mean(lda.pred5$class != val.set5$ideo_self)"
   ]
  },
  {
   "cell_type": "code",
   "execution_count": 35,
   "metadata": {},
   "outputs": [
    {
     "data": {
      "text/plain": [
       "    obs\n",
       "pred  0  1  2  3  4  5  6  7  8  9 10\n",
       "  0   0  0  1  0  0  1  0  0  0  0  0\n",
       "  1   1  1  0  1  1  1  0  0  0  0  0\n",
       "  2   0  0  1  0  0  1  0  0  0  0  0\n",
       "  3   3  0  6  8  8 14  1  0  3  0  0\n",
       "  4   1  1  0  2  1  4  0  0  1  0  3\n",
       "  5   5  4  8 20 21 69 17 12  3  0  8\n",
       "  6   2  0  0  2  2  6  3  2  1  0  0\n",
       "  7   0  1  1  0  1  7  8  5  3  0  1\n",
       "  8   0  0  0  1  4  9 12 11 15  4  5\n",
       "  9   0  0  0  1  0  2  1  0  1  0  0\n",
       "  10  0  0  0  2  1  4  1  3  2  0  4"
      ]
     },
     "metadata": {},
     "output_type": "display_data"
    }
   ],
   "source": [
    "table(pred = lda.pred2$class, obs = val.set$ideo_self)\n",
    "#table(pred = lda.pred2$class, obs = val.set$ideo_self)\n",
    "#table(pred = lda.pred3$class, obs = val.set$ideo_self)\n",
    "#table(pred = lda.pred4$class, obs = val.set$ideo_self)\n",
    "#table(pred = lda.pred5$class, obs = val.set$ideo_self)"
   ]
  },
  {
   "cell_type": "code",
   "execution_count": 36,
   "metadata": {},
   "outputs": [
    {
     "data": {
      "text/html": [
       "<dl class=dl-horizontal>\n",
       "\t<dt>0</dt>\n",
       "\t\t<dd>2</dd>\n",
       "\t<dt>1</dt>\n",
       "\t\t<dd>5</dd>\n",
       "\t<dt>2</dt>\n",
       "\t\t<dd>2</dd>\n",
       "\t<dt>3</dt>\n",
       "\t\t<dd>43</dd>\n",
       "\t<dt>4</dt>\n",
       "\t\t<dd>13</dd>\n",
       "\t<dt>5</dt>\n",
       "\t\t<dd>167</dd>\n",
       "\t<dt>6</dt>\n",
       "\t\t<dd>18</dd>\n",
       "\t<dt>7</dt>\n",
       "\t\t<dd>27</dd>\n",
       "\t<dt>8</dt>\n",
       "\t\t<dd>61</dd>\n",
       "\t<dt>9</dt>\n",
       "\t\t<dd>5</dd>\n",
       "\t<dt>10</dt>\n",
       "\t\t<dd>17</dd>\n",
       "</dl>\n"
      ],
      "text/latex": [
       "\\begin{description*}\n",
       "\\item[0] 2\n",
       "\\item[1] 5\n",
       "\\item[2] 2\n",
       "\\item[3] 43\n",
       "\\item[4] 13\n",
       "\\item[5] 167\n",
       "\\item[6] 18\n",
       "\\item[7] 27\n",
       "\\item[8] 61\n",
       "\\item[9] 5\n",
       "\\item[10] 17\n",
       "\\end{description*}\n"
      ],
      "text/markdown": [
       "0\n",
       ":   21\n",
       ":   52\n",
       ":   23\n",
       ":   434\n",
       ":   135\n",
       ":   1676\n",
       ":   187\n",
       ":   278\n",
       ":   619\n",
       ":   510\n",
       ":   17\n",
       "\n"
      ],
      "text/plain": [
       "  0   1   2   3   4   5   6   7   8   9  10 \n",
       "  2   5   2  43  13 167  18  27  61   5  17 "
      ]
     },
     "metadata": {},
     "output_type": "display_data"
    }
   ],
   "source": [
    "summary(lda.pred2$class)"
   ]
  },
  {
   "cell_type": "markdown",
   "metadata": {},
   "source": [
    "### 5개의 데이터셋에서 적합된 각 모델들 중, 가장 높은 예측 정확도(약 29.7%)를 보인 'lda.fit2'를 첫번째 예측 모형 모델 후보로 지정합니다."
   ]
  },
  {
   "cell_type": "markdown",
   "metadata": {},
   "source": [
    "--------------------------"
   ]
  },
  {
   "cell_type": "markdown",
   "metadata": {},
   "source": [
    "이번엔 유의한 변수 subset을 선별해보고자, regsubset() 함수를 통한 Best Subset selection을 시행해보았습니다.\n",
    "선택 기준을 adjusted R^2 값으로 진행해본 결과, sex, k2, k3, k4, k6, k8, k12, k13 가 유의한 변수로 선정되었습니다."
   ]
  },
  {
   "cell_type": "code",
   "execution_count": 37,
   "metadata": {},
   "outputs": [
    {
     "data": {
      "text/html": [
       "8"
      ],
      "text/latex": [
       "8"
      ],
      "text/markdown": [
       "8"
      ],
      "text/plain": [
       "[1] 8"
      ]
     },
     "metadata": {},
     "output_type": "display_data"
    },
    {
     "data": {
      "image/png": "[encoded data removed]",
      "text/plain": [
       "plot without title"
      ]
     },
     "metadata": {},
     "output_type": "display_data"
    }
   ],
   "source": [
    "library(leaps)\n",
    "regfit.full=regsubsets(imp1$ideo_self~.,imp1,nvmax=15)\n",
    "reg.summary<-summary(regfit.full)\n",
    "which.max(reg.summary$adjr2)\n",
    "plot(regfit.full,scale = 'adjr2')"
   ]
  },
  {
   "cell_type": "markdown",
   "metadata": {},
   "source": [
    "-----------------------------"
   ]
  },
  {
   "cell_type": "markdown",
   "metadata": {},
   "source": [
    "위에서 선택된 변수들로 LDA를 시행해봅니다. 첫번째 후보 모델과의 비교를 위해 같은 tr.set, val.set으로 적합 및 검정을 진행합니다. \n",
    "검정결과, 예측 정확도는 첫번째 후보 모델보다 미미하게 향상되었지만, 중심부(5)에 과적합된 예측 결과가 포착됩니다."
   ]
  },
  {
   "cell_type": "code",
   "execution_count": 38,
   "metadata": {},
   "outputs": [
    {
     "data": {
      "text/html": [
       "0.302777777777778"
      ],
      "text/latex": [
       "0.302777777777778"
      ],
      "text/markdown": [
       "0.302777777777778"
      ],
      "text/plain": [
       "[1] 0.3027778"
      ]
     },
     "metadata": {},
     "output_type": "display_data"
    },
    {
     "data": {
      "text/plain": [
       "    obs\n",
       "pred  0  1  2  3  4  5  6  7  8  9 10\n",
       "  0   0  0  0  0  0  0  0  0  0  0  0\n",
       "  1   0  0  0  0  0  0  0  0  0  0  0\n",
       "  2   0  0  1  2  0  1  0  0  0  0  0\n",
       "  3   3  1  6  9  8 12  1  0  2  0  0\n",
       "  4   1  0  0  1  2  1  2  0  0  0  0\n",
       "  5   6  5  9 20 23 76 18 12  5  0  8\n",
       "  6   2  0  0  2  1  9  2  3  1  0  0\n",
       "  7   0  1  1  2  2  7  7  6  5  0  5\n",
       "  8   0  0  0  0  2  6 12 10 12  3  7\n",
       "  9   0  0  0  0  0  0  0  0  0  0  0\n",
       "  10  0  0  0  1  1  6  1  2  4  1  1"
      ]
     },
     "metadata": {},
     "output_type": "display_data"
    },
    {
     "data": {
      "text/html": [
       "<dl class=dl-horizontal>\n",
       "\t<dt>0</dt>\n",
       "\t\t<dd>0</dd>\n",
       "\t<dt>1</dt>\n",
       "\t\t<dd>0</dd>\n",
       "\t<dt>2</dt>\n",
       "\t\t<dd>4</dd>\n",
       "\t<dt>3</dt>\n",
       "\t\t<dd>42</dd>\n",
       "\t<dt>4</dt>\n",
       "\t\t<dd>7</dd>\n",
       "\t<dt>5</dt>\n",
       "\t\t<dd>182</dd>\n",
       "\t<dt>6</dt>\n",
       "\t\t<dd>20</dd>\n",
       "\t<dt>7</dt>\n",
       "\t\t<dd>36</dd>\n",
       "\t<dt>8</dt>\n",
       "\t\t<dd>52</dd>\n",
       "\t<dt>9</dt>\n",
       "\t\t<dd>0</dd>\n",
       "\t<dt>10</dt>\n",
       "\t\t<dd>17</dd>\n",
       "</dl>\n"
      ],
      "text/latex": [
       "\\begin{description*}\n",
       "\\item[0] 0\n",
       "\\item[1] 0\n",
       "\\item[2] 4\n",
       "\\item[3] 42\n",
       "\\item[4] 7\n",
       "\\item[5] 182\n",
       "\\item[6] 20\n",
       "\\item[7] 36\n",
       "\\item[8] 52\n",
       "\\item[9] 0\n",
       "\\item[10] 17\n",
       "\\end{description*}\n"
      ],
      "text/markdown": [
       "0\n",
       ":   01\n",
       ":   02\n",
       ":   43\n",
       ":   424\n",
       ":   75\n",
       ":   1826\n",
       ":   207\n",
       ":   368\n",
       ":   529\n",
       ":   010\n",
       ":   17\n",
       "\n"
      ],
      "text/plain": [
       "  0   1   2   3   4   5   6   7   8   9  10 \n",
       "  0   0   4  42   7 182  20  36  52   0  17 "
      ]
     },
     "metadata": {},
     "output_type": "display_data"
    }
   ],
   "source": [
    "lda.fit.subsets <- lda(ideo_self ~ sex + k2 + k3 + k4 + k6 + k8 + k12 + k13, data = tr.set)\n",
    "lda.pred.subsets <- predict(lda.fit.subsets, newdata = val.set)\n",
    "mean(lda.pred.subsets$class == val.set$ideo_self)\n",
    "table(pred = lda.pred.subsets$class, obs = val.set$ideo_self)\n",
    "summary(lda.pred.subsets$class)"
   ]
  },
  {
   "cell_type": "markdown",
   "metadata": {},
   "source": [
    "--------------------------"
   ]
  },
  {
   "cell_type": "markdown",
   "metadata": {},
   "source": [
    "이어 랜덤 포레스트 기법으로 동일한 변수 subset과 tr.set, val.set 분석을 진행했습니다.\n",
    "역시 예측 정확도는 향상되었으나, 중심부(5)에 지나치게 집중된 예측 결과가 포착됩니다."
   ]
  },
  {
   "cell_type": "code",
   "execution_count": 39,
   "metadata": {},
   "outputs": [
    {
     "name": "stderr",
     "output_type": "stream",
     "text": [
      "randomForest 4.6-12\n",
      "Type rfNews() to see new features/changes/bug fixes.\n"
     ]
    },
    {
     "data": {
      "text/html": [
       "0.322222222222222"
      ],
      "text/latex": [
       "0.322222222222222"
      ],
      "text/markdown": [
       "0.322222222222222"
      ],
      "text/plain": [
       "[1] 0.3222222"
      ]
     },
     "metadata": {},
     "output_type": "display_data"
    },
    {
     "data": {
      "text/plain": [
       "    obs\n",
       "pred  0  1  2  3  4  5  6  7  8  9 10\n",
       "  0   0  0  0  0  0  0  0  0  0  0  0\n",
       "  1   0  0  0  0  0  0  0  0  0  0  0\n",
       "  2   0  1  0  0  0  0  0  0  0  0  0\n",
       "  3   1  0  0  2  0  4  1  1  1  0  0\n",
       "  4   3  0  2  2  4  1  1  0  1  0  0\n",
       "  5   7  6 14 32 32 93 25 15 11  0 13\n",
       "  6   1  0  0  0  0  2  2  3  0  0  1\n",
       "  7   0  0  1  1  1  9  5  3  4  0  1\n",
       "  8   0  0  0  0  2  9  9 11 12  4  6\n",
       "  9   0  0  0  0  0  0  0  0  0  0  0\n",
       "  10  0  0  0  0  0  0  0  0  0  0  0"
      ]
     },
     "metadata": {},
     "output_type": "display_data"
    },
    {
     "data": {
      "text/html": [
       "<dl class=dl-horizontal>\n",
       "\t<dt>0</dt>\n",
       "\t\t<dd>0</dd>\n",
       "\t<dt>1</dt>\n",
       "\t\t<dd>0</dd>\n",
       "\t<dt>2</dt>\n",
       "\t\t<dd>1</dd>\n",
       "\t<dt>3</dt>\n",
       "\t\t<dd>10</dd>\n",
       "\t<dt>4</dt>\n",
       "\t\t<dd>14</dd>\n",
       "\t<dt>5</dt>\n",
       "\t\t<dd>248</dd>\n",
       "\t<dt>6</dt>\n",
       "\t\t<dd>9</dd>\n",
       "\t<dt>7</dt>\n",
       "\t\t<dd>25</dd>\n",
       "\t<dt>8</dt>\n",
       "\t\t<dd>53</dd>\n",
       "\t<dt>9</dt>\n",
       "\t\t<dd>0</dd>\n",
       "\t<dt>10</dt>\n",
       "\t\t<dd>0</dd>\n",
       "</dl>\n"
      ],
      "text/latex": [
       "\\begin{description*}\n",
       "\\item[0] 0\n",
       "\\item[1] 0\n",
       "\\item[2] 1\n",
       "\\item[3] 10\n",
       "\\item[4] 14\n",
       "\\item[5] 248\n",
       "\\item[6] 9\n",
       "\\item[7] 25\n",
       "\\item[8] 53\n",
       "\\item[9] 0\n",
       "\\item[10] 0\n",
       "\\end{description*}\n"
      ],
      "text/markdown": [
       "0\n",
       ":   01\n",
       ":   02\n",
       ":   13\n",
       ":   104\n",
       ":   145\n",
       ":   2486\n",
       ":   97\n",
       ":   258\n",
       ":   539\n",
       ":   010\n",
       ":   0\n",
       "\n"
      ],
      "text/plain": [
       "  0   1   2   3   4   5   6   7   8   9  10 \n",
       "  0   0   1  10  14 248   9  25  53   0   0 "
      ]
     },
     "metadata": {},
     "output_type": "display_data"
    }
   ],
   "source": [
    "library(randomForest)\n",
    "set.seed(1234)\n",
    "rf.fit <- randomForest(ideo_self ~sex + k2 + k3 + k4 + k6 + k8 + k12 + k13, data= tr.set)\n",
    "rf.pred = predict(rf.fit, newdata= val.set)\n",
    "mean(rf.pred== val.set$ideo_self)\n",
    "table(pred = rf.pred, obs = val.set$ideo_self)\n",
    "summary(rf.pred)"
   ]
  },
  {
   "cell_type": "markdown",
   "metadata": {},
   "source": [
    "--------------------------------------"
   ]
  },
  {
   "cell_type": "markdown",
   "metadata": {},
   "source": [
    "지금까지 Amelia 패키지를 통해 만든 결측치를 대체한 데이터 셋(5개 중 imp1)을 바탕으로,\n",
    "1. 선형판별분석, 2. Best subset selection 절차 후의 선형판별 분석, 3. Best subset selection 절차 후의 랜덤포래스트를 진행했습니다.\n",
    "\n",
    "#### 모형은 각각\n",
    "#### 1. lda(ideo_self ~ sex +age + area + edu + income + k2 + k3 + k4 + k6 + k7 + k8 + k10 + k12 + k13)\n",
    "#### 2. lda(ideo_self ~ sex + k2 + k3 + k4 + k6 + k8 + k12 + k13)\n",
    "#### 3. randomForest(ideo_self ~sex + k2 + k3 + k4 + k6 + k8 + k12 + k13)\n",
    "#### 으로 나타낼 수 있습니다.\n",
    "\n",
    "validation set으로 검정 시, 1번 모델에 비해 2, 3번의 예측 정확도가 높았습니다. 하지만 중심부(5)에 과적합된 예측 결과가 포착되어, 민감도를 고려해 1번 모델 lda(ideo_self ~ sex +age + area + edu + income + k2 + k3 + k4 + k6 + k7 + k8 + k10 + k12 + k13) 을 이용, ideo_self의 예측을 시행합니다."
   ]
  },
  {
   "cell_type": "code",
   "execution_count": 40,
   "metadata": {},
   "outputs": [
    {
     "data": {
      "text/html": [
       "<dl class=dl-horizontal>\n",
       "\t<dt>0</dt>\n",
       "\t\t<dd>0</dd>\n",
       "\t<dt>1</dt>\n",
       "\t\t<dd>2</dd>\n",
       "\t<dt>2</dt>\n",
       "\t\t<dd>3</dd>\n",
       "\t<dt>3</dt>\n",
       "\t\t<dd>20</dd>\n",
       "\t<dt>4</dt>\n",
       "\t\t<dd>4</dd>\n",
       "\t<dt>5</dt>\n",
       "\t\t<dd>80</dd>\n",
       "\t<dt>6</dt>\n",
       "\t\t<dd>6</dd>\n",
       "\t<dt>7</dt>\n",
       "\t\t<dd>11</dd>\n",
       "\t<dt>8</dt>\n",
       "\t\t<dd>16</dd>\n",
       "\t<dt>9</dt>\n",
       "\t\t<dd>2</dd>\n",
       "\t<dt>10</dt>\n",
       "\t\t<dd>11</dd>\n",
       "</dl>\n"
      ],
      "text/latex": [
       "\\begin{description*}\n",
       "\\item[0] 0\n",
       "\\item[1] 2\n",
       "\\item[2] 3\n",
       "\\item[3] 20\n",
       "\\item[4] 4\n",
       "\\item[5] 80\n",
       "\\item[6] 6\n",
       "\\item[7] 11\n",
       "\\item[8] 16\n",
       "\\item[9] 2\n",
       "\\item[10] 11\n",
       "\\end{description*}\n"
      ],
      "text/markdown": [
       "0\n",
       ":   01\n",
       ":   22\n",
       ":   33\n",
       ":   204\n",
       ":   45\n",
       ":   806\n",
       ":   67\n",
       ":   118\n",
       ":   169\n",
       ":   210\n",
       ":   11\n",
       "\n"
      ],
      "text/plain": [
       " 0  1  2  3  4  5  6  7  8  9 10 \n",
       " 0  2  3 20  4 80  6 11 16  2 11 "
      ]
     },
     "metadata": {},
     "output_type": "display_data"
    }
   ],
   "source": [
    "answer.n3 <- predict(lda.fit2, newdata = test.set)\n",
    "test.set$ideo_self <- answer.n3$class\n",
    "summary(answer.n3$class)"
   ]
  },
  {
   "cell_type": "code",
   "execution_count": 41,
   "metadata": {
    "collapsed": true
   },
   "outputs": [],
   "source": [
    "final_prediction <- as.data.frame(answer.n3$class)"
   ]
  },
  {
   "cell_type": "markdown",
   "metadata": {},
   "source": [
    "ideo_self 응답이 결측치인 155명에 대한 최종 예측, final_prediction 입니다.\n",
    "---"
   ]
  },
  {
   "cell_type": "code",
   "execution_count": 44,
   "metadata": {},
   "outputs": [
    {
     "data": {
      "text/html": [
       "<table>\n",
       "<thead><tr><th scope=col>answer.n3$class</th></tr></thead>\n",
       "<tbody>\n",
       "\t<tr><td>8 </td></tr>\n",
       "\t<tr><td>8 </td></tr>\n",
       "\t<tr><td>5 </td></tr>\n",
       "\t<tr><td>8 </td></tr>\n",
       "\t<tr><td>5 </td></tr>\n",
       "\t<tr><td>10</td></tr>\n",
       "\t<tr><td>8 </td></tr>\n",
       "\t<tr><td>3 </td></tr>\n",
       "\t<tr><td>5 </td></tr>\n",
       "\t<tr><td>8 </td></tr>\n",
       "\t<tr><td>5 </td></tr>\n",
       "\t<tr><td>5 </td></tr>\n",
       "\t<tr><td>9 </td></tr>\n",
       "\t<tr><td>10</td></tr>\n",
       "\t<tr><td>5 </td></tr>\n",
       "\t<tr><td>6 </td></tr>\n",
       "\t<tr><td>10</td></tr>\n",
       "\t<tr><td>5 </td></tr>\n",
       "\t<tr><td>8 </td></tr>\n",
       "\t<tr><td>8 </td></tr>\n",
       "\t<tr><td>3 </td></tr>\n",
       "\t<tr><td>7 </td></tr>\n",
       "\t<tr><td>8 </td></tr>\n",
       "\t<tr><td>5 </td></tr>\n",
       "\t<tr><td>5 </td></tr>\n",
       "\t<tr><td>5 </td></tr>\n",
       "\t<tr><td>4 </td></tr>\n",
       "\t<tr><td>3 </td></tr>\n",
       "\t<tr><td>3 </td></tr>\n",
       "\t<tr><td>5 </td></tr>\n",
       "\t<tr><td>...</td></tr>\n",
       "\t<tr><td>5 </td></tr>\n",
       "\t<tr><td>5 </td></tr>\n",
       "\t<tr><td>3 </td></tr>\n",
       "\t<tr><td>5 </td></tr>\n",
       "\t<tr><td>3 </td></tr>\n",
       "\t<tr><td>5 </td></tr>\n",
       "\t<tr><td>5 </td></tr>\n",
       "\t<tr><td>5 </td></tr>\n",
       "\t<tr><td>10</td></tr>\n",
       "\t<tr><td>9 </td></tr>\n",
       "\t<tr><td>7 </td></tr>\n",
       "\t<tr><td>5 </td></tr>\n",
       "\t<tr><td>2 </td></tr>\n",
       "\t<tr><td>5 </td></tr>\n",
       "\t<tr><td>7 </td></tr>\n",
       "\t<tr><td>5 </td></tr>\n",
       "\t<tr><td>8 </td></tr>\n",
       "\t<tr><td>5 </td></tr>\n",
       "\t<tr><td>5 </td></tr>\n",
       "\t<tr><td>5 </td></tr>\n",
       "\t<tr><td>5 </td></tr>\n",
       "\t<tr><td>8 </td></tr>\n",
       "\t<tr><td>10</td></tr>\n",
       "\t<tr><td>10</td></tr>\n",
       "\t<tr><td>5 </td></tr>\n",
       "\t<tr><td>5 </td></tr>\n",
       "\t<tr><td>7 </td></tr>\n",
       "\t<tr><td>3 </td></tr>\n",
       "\t<tr><td>5 </td></tr>\n",
       "\t<tr><td>2 </td></tr>\n",
       "</tbody>\n",
       "</table>\n"
      ],
      "text/latex": [
       "\\begin{tabular}{r|l}\n",
       " answer.n3\\$class\\\\\n",
       "\\hline\n",
       "\t 8 \\\\\n",
       "\t 8 \\\\\n",
       "\t 5 \\\\\n",
       "\t 8 \\\\\n",
       "\t 5 \\\\\n",
       "\t 10\\\\\n",
       "\t 8 \\\\\n",
       "\t 3 \\\\\n",
       "\t 5 \\\\\n",
       "\t 8 \\\\\n",
       "\t 5 \\\\\n",
       "\t 5 \\\\\n",
       "\t 9 \\\\\n",
       "\t 10\\\\\n",
       "\t 5 \\\\\n",
       "\t 6 \\\\\n",
       "\t 10\\\\\n",
       "\t 5 \\\\\n",
       "\t 8 \\\\\n",
       "\t 8 \\\\\n",
       "\t 3 \\\\\n",
       "\t 7 \\\\\n",
       "\t 8 \\\\\n",
       "\t 5 \\\\\n",
       "\t 5 \\\\\n",
       "\t 5 \\\\\n",
       "\t 4 \\\\\n",
       "\t 3 \\\\\n",
       "\t 3 \\\\\n",
       "\t 5 \\\\\n",
       "\t ...\\\\\n",
       "\t 5 \\\\\n",
       "\t 5 \\\\\n",
       "\t 3 \\\\\n",
       "\t 5 \\\\\n",
       "\t 3 \\\\\n",
       "\t 5 \\\\\n",
       "\t 5 \\\\\n",
       "\t 5 \\\\\n",
       "\t 10\\\\\n",
       "\t 9 \\\\\n",
       "\t 7 \\\\\n",
       "\t 5 \\\\\n",
       "\t 2 \\\\\n",
       "\t 5 \\\\\n",
       "\t 7 \\\\\n",
       "\t 5 \\\\\n",
       "\t 8 \\\\\n",
       "\t 5 \\\\\n",
       "\t 5 \\\\\n",
       "\t 5 \\\\\n",
       "\t 5 \\\\\n",
       "\t 8 \\\\\n",
       "\t 10\\\\\n",
       "\t 10\\\\\n",
       "\t 5 \\\\\n",
       "\t 5 \\\\\n",
       "\t 7 \\\\\n",
       "\t 3 \\\\\n",
       "\t 5 \\\\\n",
       "\t 2 \\\\\n",
       "\\end{tabular}\n"
      ],
      "text/markdown": [
       "\n",
       "answer.n3$class | \n",
       "|---|---|---|---|---|---|---|---|---|---|---|---|---|---|---|---|---|---|---|---|---|---|---|---|---|---|---|---|---|---|---|---|---|---|---|---|---|---|---|---|---|---|---|---|---|---|---|---|---|---|---|---|---|---|---|---|---|---|---|---|---|\n",
       "| 8  | \n",
       "| 8  | \n",
       "| 5  | \n",
       "| 8  | \n",
       "| 5  | \n",
       "| 10 | \n",
       "| 8  | \n",
       "| 3  | \n",
       "| 5  | \n",
       "| 8  | \n",
       "| 5  | \n",
       "| 5  | \n",
       "| 9  | \n",
       "| 10 | \n",
       "| 5  | \n",
       "| 6  | \n",
       "| 10 | \n",
       "| 5  | \n",
       "| 8  | \n",
       "| 8  | \n",
       "| 3  | \n",
       "| 7  | \n",
       "| 8  | \n",
       "| 5  | \n",
       "| 5  | \n",
       "| 5  | \n",
       "| 4  | \n",
       "| 3  | \n",
       "| 3  | \n",
       "| 5  | \n",
       "| ... | \n",
       "| 5  | \n",
       "| 5  | \n",
       "| 3  | \n",
       "| 5  | \n",
       "| 3  | \n",
       "| 5  | \n",
       "| 5  | \n",
       "| 5  | \n",
       "| 10 | \n",
       "| 9  | \n",
       "| 7  | \n",
       "| 5  | \n",
       "| 2  | \n",
       "| 5  | \n",
       "| 7  | \n",
       "| 5  | \n",
       "| 8  | \n",
       "| 5  | \n",
       "| 5  | \n",
       "| 5  | \n",
       "| 5  | \n",
       "| 8  | \n",
       "| 10 | \n",
       "| 10 | \n",
       "| 5  | \n",
       "| 5  | \n",
       "| 7  | \n",
       "| 3  | \n",
       "| 5  | \n",
       "| 2  | \n",
       "\n",
       "\n"
      ],
      "text/plain": [
       "    answer.n3$class\n",
       "1   8              \n",
       "2   8              \n",
       "3   5              \n",
       "4   8              \n",
       "5   5              \n",
       "6   10             \n",
       "7   8              \n",
       "8   3              \n",
       "9   5              \n",
       "10  8              \n",
       "11  5              \n",
       "12  5              \n",
       "13  9              \n",
       "14  10             \n",
       "15  5              \n",
       "16  6              \n",
       "17  10             \n",
       "18  5              \n",
       "19  8              \n",
       "20  8              \n",
       "21  3              \n",
       "22  7              \n",
       "23  8              \n",
       "24  5              \n",
       "25  5              \n",
       "26  5              \n",
       "27  4              \n",
       "28  3              \n",
       "29  3              \n",
       "30  5              \n",
       "... ...            \n",
       "126 5              \n",
       "127 5              \n",
       "128 3              \n",
       "129 5              \n",
       "130 3              \n",
       "131 5              \n",
       "132 5              \n",
       "133 5              \n",
       "134 10             \n",
       "135 9              \n",
       "136 7              \n",
       "137 5              \n",
       "138 2              \n",
       "139 5              \n",
       "140 7              \n",
       "141 5              \n",
       "142 8              \n",
       "143 5              \n",
       "144 5              \n",
       "145 5              \n",
       "146 5              \n",
       "147 8              \n",
       "148 10             \n",
       "149 10             \n",
       "150 5              \n",
       "151 5              \n",
       "152 7              \n",
       "153 3              \n",
       "154 5              \n",
       "155 2              "
      ]
     },
     "metadata": {},
     "output_type": "display_data"
    }
   ],
   "source": [
    "final_prediction"
   ]
  },
  {
   "cell_type": "code",
   "execution_count": 45,
   "metadata": {
    "collapsed": true
   },
   "outputs": [],
   "source": [
    "write.csv(final_prediction, file = 'prediction_Q3.csv')"
   ]
  }
 ],
 "metadata": {
  "kernelspec": {
   "display_name": "R",
   "language": "R",
   "name": "ir"
  },
  "language_info": {
   "codemirror_mode": "r",
   "file_extension": ".r",
   "mimetype": "text/x-r-source",
   "name": "R",
   "pygments_lexer": "r",
   "version": "3.4.1"
  }
 },
 "nbformat": 4,
 "nbformat_minor": 2
}

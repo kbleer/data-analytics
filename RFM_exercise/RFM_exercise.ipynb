{
 "cells": [
  {
   "attachments": {},
   "cell_type": "markdown",
   "metadata": {
    "slideshow": {
     "slide_type": "skip"
    }
   },
   "source": [
    "1: 모든 변수를 넣은 로지스틱 회귀 분석\n",
    "===\n",
    "Validation Set에서 Purchase가 1일 확률을 얻어 상위 500명을 선정하고자, \n",
    "모든 변수를 활용한 회귀분석을 시행하였습니다.\n",
    "\n",
    "(결과 예측에 영향이 없는 id 변수는 모든 과정에서 제외)\n",
    "\n",
    "------------------"
   ]
  },
  {
   "cell_type": "markdown",
   "metadata": {},
   "source": [
    "- csv 데이터 파일을 불러와 training set과 test set으로 분류합니다.\n",
    "---"
   ]
  },
  {
   "cell_type": "code",
   "execution_count": 12,
   "metadata": {
    "scrolled": true,
    "slideshow": {
     "slide_type": "slide"
    }
   },
   "outputs": [
    {
     "name": "stdout",
     "output_type": "stream",
     "text": [
      "'data.frame':\t4000 obs. of  6 variables:\n",
      " $ gender   : num  2 1 1 1 1 2 1 1 1 1 ...\n",
      " $ monetary : int  138 172 272 149 113 15 238 418 123 294 ...\n",
      " $ recency  : int  28 16 8 16 8 26 2 6 12 6 ...\n",
      " $ frequency: int  3 2 1 1 1 1 11 11 1 2 ...\n",
      " $ duration : int  40 20 8 16 8 26 42 66 12 8 ...\n",
      " $ purchase : int  0 0 0 0 1 0 0 1 0 0 ...\n"
     ]
    }
   ],
   "source": [
    "#rm(list = ls())\n",
    "#dev.off()\n",
    "\n",
    "data0 = read.csv('./mailorder.csv')\n",
    "data0$gender <- as.numeric(gender) # 차후 logit regression을 위한 가공\n",
    "data0 <- data0[,2:7] #id 변수 제외\n",
    "str(data0)\n",
    "trset = data0[1 : 2000,]\n",
    "tset = data0[2001 : 4000,]\n",
    "\n"
   ]
  },
  {
   "cell_type": "markdown",
   "metadata": {
    "slideshow": {
     "slide_type": "skip"
    }
   },
   "source": [
    "- training set에 전체 변수를 적용해 로지스틱 회귀 모형을 적합합니다.\n",
    "---"
   ]
  },
  {
   "cell_type": "code",
   "execution_count": 13,
   "metadata": {
    "slideshow": {
     "slide_type": "slide"
    }
   },
   "outputs": [
    {
     "data": {
      "text/plain": [
       "\n",
       "Call:\n",
       "glm(formula = purchase ~ ., family = binomial, data = trset)\n",
       "\n",
       "Deviance Residuals: \n",
       "    Min       1Q   Median       3Q      Max  \n",
       "-1.0272  -0.4445  -0.3461  -0.2645   3.0157  \n",
       "\n",
       "Coefficients:\n",
       "              Estimate Std. Error z value Pr(>|z|)    \n",
       "(Intercept) -3.1057486  0.3429606  -9.056  < 2e-16 ***\n",
       "gender       0.6446095  0.1723430   3.740 0.000184 ***\n",
       "monetary     0.0010490  0.0009594   1.093 0.274183    \n",
       "recency     -0.0673636  0.0169854  -3.966 7.31e-05 ***\n",
       "frequency    0.1388373  0.0540685   2.568 0.010234 *  \n",
       "duration    -0.0098151  0.0111535  -0.880 0.378857    \n",
       "---\n",
       "Signif. codes:  0 ‘***’ 0.001 ‘**’ 0.01 ‘*’ 0.05 ‘.’ 0.1 ‘ ’ 1\n",
       "\n",
       "(Dispersion parameter for binomial family taken to be 1)\n",
       "\n",
       "    Null deviance: 1129.7  on 1999  degrees of freedom\n",
       "Residual deviance: 1046.2  on 1994  degrees of freedom\n",
       "AIC: 1058.2\n",
       "\n",
       "Number of Fisher Scoring iterations: 6\n"
      ]
     },
     "metadata": {},
     "output_type": "display_data"
    }
   ],
   "source": [
    "glm.fit0 = glm(purchase~., data = trset, family = binomial)\n",
    "lm.fit0 = lm(purchase~., data = trset)\n",
    "summary(glm.fit0)"
   ]
  },
  {
   "cell_type": "markdown",
   "metadata": {
    "slideshow": {
     "slide_type": "skip"
    }
   },
   "source": [
    "- 적합한 모델로 test set의 purchase를 예측합니다. 각 데이터의 purchase 값이 1일 확률을 알아보는 과정입니다.\n",
    "---"
   ]
  },
  {
   "cell_type": "code",
   "execution_count": 14,
   "metadata": {
    "slideshow": {
     "slide_type": "slide"
    }
   },
   "outputs": [
    {
     "data": {
      "text/html": [
       "<dl class=dl-horizontal>\n",
       "\t<dt>2001</dt>\n",
       "\t\t<dd>0.0691423867907055</dd>\n",
       "\t<dt>2002</dt>\n",
       "\t\t<dd>0.0611397176772178</dd>\n",
       "\t<dt>2003</dt>\n",
       "\t\t<dd>0.0600505359065382</dd>\n",
       "\t<dt>2004</dt>\n",
       "\t\t<dd>0.0983633097202405</dd>\n",
       "\t<dt>2005</dt>\n",
       "\t\t<dd>0.0763721012389547</dd>\n",
       "\t<dt>2006</dt>\n",
       "\t\t<dd>0.092057949097905</dd>\n",
       "\t<dt>2007</dt>\n",
       "\t\t<dd>0.0618333198712785</dd>\n",
       "\t<dt>2008</dt>\n",
       "\t\t<dd>0.0812947398206373</dd>\n",
       "\t<dt>2009</dt>\n",
       "\t\t<dd>0.0533390253600857</dd>\n",
       "\t<dt>2010</dt>\n",
       "\t\t<dd>0.0772056925087164</dd>\n",
       "</dl>\n"
      ],
      "text/latex": [
       "\\begin{description*}\n",
       "\\item[2001] 0.0691423867907055\n",
       "\\item[2002] 0.0611397176772178\n",
       "\\item[2003] 0.0600505359065382\n",
       "\\item[2004] 0.0983633097202405\n",
       "\\item[2005] 0.0763721012389547\n",
       "\\item[2006] 0.092057949097905\n",
       "\\item[2007] 0.0618333198712785\n",
       "\\item[2008] 0.0812947398206373\n",
       "\\item[2009] 0.0533390253600857\n",
       "\\item[2010] 0.0772056925087164\n",
       "\\end{description*}\n"
      ],
      "text/markdown": [
       "2001\n",
       ":   0.06914238679070552002\n",
       ":   0.06113971767721782003\n",
       ":   0.06005053590653822004\n",
       ":   0.09836330972024052005\n",
       ":   0.07637210123895472006\n",
       ":   0.0920579490979052007\n",
       ":   0.06183331987127852008\n",
       ":   0.08129473982063732009\n",
       ":   0.05333902536008572010\n",
       ":   0.0772056925087164\n",
       "\n"
      ],
      "text/plain": [
       "      2001       2002       2003       2004       2005       2006       2007 \n",
       "0.06914239 0.06113972 0.06005054 0.09836331 0.07637210 0.09205795 0.06183332 \n",
       "      2008       2009       2010 \n",
       "0.08129474 0.05333903 0.07720569 "
      ]
     },
     "metadata": {},
     "output_type": "display_data"
    },
    {
     "data": {
      "text/html": [
       "2000"
      ],
      "text/latex": [
       "2000"
      ],
      "text/markdown": [
       "2000"
      ],
      "text/plain": [
       "[1] 2000"
      ]
     },
     "metadata": {},
     "output_type": "display_data"
    },
    {
     "data": {
      "text/plain": [
       "    Min.  1st Qu.   Median     Mean  3rd Qu.     Max. \n",
       "0.006507 0.040748 0.065672 0.079822 0.102768 0.433726 "
      ]
     },
     "metadata": {},
     "output_type": "display_data"
    }
   ],
   "source": [
    "set.seed(1)\n",
    "glm.probs0 = predict(glm.fit0,  type = 'response', tset)\n",
    "glm.probs0[1:10]\n",
    "length(glm.probs0)\n",
    "summary(glm.probs0)\n"
   ]
  },
  {
   "cell_type": "markdown",
   "metadata": {
    "slideshow": {
     "slide_type": "skip"
    }
   },
   "source": [
    "- 나온 확률이 0.5 이하면 0, 이상이면 1을 넣어 예측해봅니다.\n",
    "---"
   ]
  },
  {
   "cell_type": "code",
   "execution_count": 15,
   "metadata": {
    "slideshow": {
     "slide_type": "slide"
    }
   },
   "outputs": [
    {
     "data": {
      "text/html": [
       "<ol class=list-inline>\n",
       "\t<li>1</li>\n",
       "\t<li>1</li>\n",
       "\t<li>1</li>\n",
       "\t<li>1</li>\n",
       "\t<li>1</li>\n",
       "\t<li>1</li>\n",
       "\t<li>1</li>\n",
       "\t<li>1</li>\n",
       "\t<li>1</li>\n",
       "\t<li>1</li>\n",
       "</ol>\n"
      ],
      "text/latex": [
       "\\begin{enumerate*}\n",
       "\\item 1\n",
       "\\item 1\n",
       "\\item 1\n",
       "\\item 1\n",
       "\\item 1\n",
       "\\item 1\n",
       "\\item 1\n",
       "\\item 1\n",
       "\\item 1\n",
       "\\item 1\n",
       "\\end{enumerate*}\n"
      ],
      "text/markdown": [
       "1. 1\n",
       "2. 1\n",
       "3. 1\n",
       "4. 1\n",
       "5. 1\n",
       "6. 1\n",
       "7. 1\n",
       "8. 1\n",
       "9. 1\n",
       "10. 1\n",
       "\n",
       "\n"
      ],
      "text/plain": [
       " [1] 1 1 1 1 1 1 1 1 1 1"
      ]
     },
     "metadata": {},
     "output_type": "display_data"
    },
    {
     "data": {
      "text/plain": [
       "   Min. 1st Qu.  Median    Mean 3rd Qu.    Max. \n",
       "      0       0       0       0       0       0 "
      ]
     },
     "metadata": {},
     "output_type": "display_data"
    }
   ],
   "source": [
    "glm.pred0 = rep(1, 2000)\n",
    "glm.pred0[1:10]\n",
    "glm.pred0[glm.probs0 < .5] = 0\n",
    "summary(glm.pred0)"
   ]
  },
  {
   "cell_type": "markdown",
   "metadata": {
    "slideshow": {
     "slide_type": "slide"
    }
   },
   "source": [
    "- 모델로 예측해 나온 purchase 확률이 0.5 이상인 것이 하나도 없습니다. 때문에 로지스틱 회귀모형은 모든 값을 0으로 처리합니다. 불균형 자료인 이 프로젝트 특성 상 91%의 정확도를 보이지만 민감도는 0%입니다.\n",
    "---"
   ]
  },
  {
   "cell_type": "code",
   "execution_count": 16,
   "metadata": {
    "slideshow": {
     "slide_type": "slide"
    }
   },
   "outputs": [
    {
     "data": {
      "text/plain": [
       "   glm.pred0\n",
       "       0\n",
       "  0 1838\n",
       "  1  162"
      ]
     },
     "metadata": {},
     "output_type": "display_data"
    },
    {
     "data": {
      "text/html": [
       "0.91875"
      ],
      "text/latex": [
       "0.91875"
      ],
      "text/markdown": [
       "0.91875"
      ],
      "text/plain": [
       "[1] 0.91875"
      ]
     },
     "metadata": {},
     "output_type": "display_data"
    }
   ],
   "source": [
    "table(tset$purchase, glm.pred0)\n",
    "mean(glm.pred0 == data0$purchase)"
   ]
  },
  {
   "cell_type": "markdown",
   "metadata": {
    "slideshow": {
     "slide_type": "slide"
    }
   },
   "source": [
    "- 모델로 예측해 나온 test set의 'pusrchase 값이 1일 확률'을 토대로 상위 500명을 뽑아 봅니다. 이들의 실제 purchase 값을 비교해 본 결과, 89명은 1을 기록하고 있습니다. 이들에게 카탈로그를 보낸다면 17.8%의 구매 반응율을 볼 수 있습니다.\n",
    "---"
   ]
  },
  {
   "cell_type": "code",
   "execution_count": 26,
   "metadata": {
    "slideshow": {
     "slide_type": "slide"
    }
   },
   "outputs": [
    {
     "name": "stdout",
     "output_type": "stream",
     "text": [
      " int [1:2000] 1773 699 790 1067 1414 1901 963 102 221 291 ...\n"
     ]
    },
    {
     "data": {
      "text/html": [
       "<ol class=list-inline>\n",
       "\t<li>1773</li>\n",
       "\t<li>699</li>\n",
       "\t<li>790</li>\n",
       "\t<li>1067</li>\n",
       "\t<li>1414</li>\n",
       "\t<li>1901</li>\n",
       "</ol>\n"
      ],
      "text/latex": [
       "\\begin{enumerate*}\n",
       "\\item 1773\n",
       "\\item 699\n",
       "\\item 790\n",
       "\\item 1067\n",
       "\\item 1414\n",
       "\\item 1901\n",
       "\\end{enumerate*}\n"
      ],
      "text/markdown": [
       "1. 1773\n",
       "2. 699\n",
       "3. 790\n",
       "4. 1067\n",
       "5. 1414\n",
       "6. 1901\n",
       "\n",
       "\n"
      ],
      "text/plain": [
       "[1] 1773  699  790 1067 1414 1901"
      ]
     },
     "metadata": {},
     "output_type": "display_data"
    },
    {
     "data": {
      "text/html": [
       "<table>\n",
       "<thead><tr><th></th><th scope=col>gender</th><th scope=col>monetary</th><th scope=col>recency</th><th scope=col>frequency</th><th scope=col>duration</th><th scope=col>purchase</th><th scope=col>prob</th></tr></thead>\n",
       "<tbody>\n",
       "\t<tr><th scope=row>3773</th><td>2        </td><td>412      </td><td>2        </td><td>11       </td><td>28       </td><td>0        </td><td>0.4337259</td></tr>\n",
       "\t<tr><th scope=row>2699</th><td>2        </td><td>341      </td><td>2        </td><td>12       </td><td>40       </td><td>1        </td><td>0.4206533</td></tr>\n",
       "\t<tr><th scope=row>2790</th><td>2        </td><td>264      </td><td>4        </td><td>12       </td><td>30       </td><td>1        </td><td>0.3923502</td></tr>\n",
       "\t<tr><th scope=row>3067</th><td>2        </td><td>408      </td><td>2        </td><td>11       </td><td>46       </td><td>0        </td><td>0.3899471</td></tr>\n",
       "\t<tr><th scope=row>3414</th><td>2        </td><td>304      </td><td>6        </td><td>12       </td><td>38       </td><td>1        </td><td>0.3523488</td></tr>\n",
       "\t<tr><th scope=row>3901</th><td>2        </td><td>282      </td><td>2        </td><td>11       </td><td>50       </td><td>0        </td><td>0.3500148</td></tr>\n",
       "</tbody>\n",
       "</table>\n"
      ],
      "text/latex": [
       "\\begin{tabular}{r|lllllll}\n",
       "  & gender & monetary & recency & frequency & duration & purchase & prob\\\\\n",
       "\\hline\n",
       "\t3773 & 2         & 412       & 2         & 11        & 28        & 0         & 0.4337259\\\\\n",
       "\t2699 & 2         & 341       & 2         & 12        & 40        & 1         & 0.4206533\\\\\n",
       "\t2790 & 2         & 264       & 4         & 12        & 30        & 1         & 0.3923502\\\\\n",
       "\t3067 & 2         & 408       & 2         & 11        & 46        & 0         & 0.3899471\\\\\n",
       "\t3414 & 2         & 304       & 6         & 12        & 38        & 1         & 0.3523488\\\\\n",
       "\t3901 & 2         & 282       & 2         & 11        & 50        & 0         & 0.3500148\\\\\n",
       "\\end{tabular}\n"
      ],
      "text/markdown": [
       "\n",
       "| <!--/--> | gender | monetary | recency | frequency | duration | purchase | prob | \n",
       "|---|---|---|---|---|---|\n",
       "| 3773 | 2         | 412       | 2         | 11        | 28        | 0         | 0.4337259 | \n",
       "| 2699 | 2         | 341       | 2         | 12        | 40        | 1         | 0.4206533 | \n",
       "| 2790 | 2         | 264       | 4         | 12        | 30        | 1         | 0.3923502 | \n",
       "| 3067 | 2         | 408       | 2         | 11        | 46        | 0         | 0.3899471 | \n",
       "| 3414 | 2         | 304       | 6         | 12        | 38        | 1         | 0.3523488 | \n",
       "| 3901 | 2         | 282       | 2         | 11        | 50        | 0         | 0.3500148 | \n",
       "\n",
       "\n"
      ],
      "text/plain": [
       "     gender monetary recency frequency duration purchase prob     \n",
       "3773 2      412      2       11        28       0        0.4337259\n",
       "2699 2      341      2       12        40       1        0.4206533\n",
       "2790 2      264      4       12        30       1        0.3923502\n",
       "3067 2      408      2       11        46       0        0.3899471\n",
       "3414 2      304      6       12        38       1        0.3523488\n",
       "3901 2      282      2       11        50       0        0.3500148"
      ]
     },
     "metadata": {},
     "output_type": "display_data"
    },
    {
     "data": {
      "text/plain": [
       "\n",
       "FALSE  TRUE \n",
       "  411    89 "
      ]
     },
     "metadata": {},
     "output_type": "display_data"
    }
   ],
   "source": [
    "tset$prob <- glm.probs0\n",
    "#head(data0$prob)\n",
    "idx <- order(tset$prob, decreasing = T) # purchase가 1일 확률이 높은 순서로 정렬\n",
    "str(idx)\n",
    "head(idx)\n",
    "\n",
    "ordered_tset <- tset[idx, ]\n",
    "head(ordered_tset[1:500,])\n",
    "table(ordered_tset[1:500, ]$purchase == 1)"
   ]
  },
  {
   "cell_type": "markdown",
   "metadata": {
    "slideshow": {
     "slide_type": "slide"
    }
   },
   "source": [
    "----------------"
   ]
  },
  {
   "attachments": {},
   "cell_type": "markdown",
   "metadata": {
    "slideshow": {
     "slide_type": "slide"
    }
   },
   "source": [
    "2. LASSO를 통한 변수 선택\n",
    "===\n",
    "- 더 높은 예측률을 위해 변수 선택 과정을 기획했습니다. Lasso Regression으로 변수 선택 및 계수 추정을 함께 수행합니다.\n",
    "\n",
    "--------"
   ]
  },
  {
   "cell_type": "markdown",
   "metadata": {
    "slideshow": {
     "slide_type": "slide"
    }
   },
   "source": [
    "- glmnet 함수 적용을 위한 데이터의 분할 및 매트릭스화 작업입니다.\n",
    "---"
   ]
  },
  {
   "cell_type": "code",
   "execution_count": 20,
   "metadata": {
    "slideshow": {
     "slide_type": "slide"
    }
   },
   "outputs": [
    {
     "name": "stderr",
     "output_type": "stream",
     "text": [
      "Loading required package: Matrix\n",
      "Loading required package: foreach\n",
      "Loaded glmnet 2.0-10\n",
      "\n"
     ]
    },
    {
     "data": {
      "text/html": [
       "2000"
      ],
      "text/latex": [
       "2000"
      ],
      "text/markdown": [
       "2000"
      ],
      "text/plain": [
       "[1] 2000"
      ]
     },
     "metadata": {},
     "output_type": "display_data"
    }
   ],
   "source": [
    "library(glmnet)\n",
    "train = c(1:2000)\n",
    "test = c(2001:4000)\n",
    "\n",
    "y = data0$purchase\n",
    "x = as.matrix(data0[, -6])\n",
    "length(y[test])"
   ]
  },
  {
   "cell_type": "markdown",
   "metadata": {
    "slideshow": {
     "slide_type": "slide"
    }
   },
   "source": [
    "- glmnet 함수로는 lasso regression 모델을 적합시키고, cv.glmnet 함수로는 최소 CV 에러를 갖는 lambda 값을 도출합니다. (lambda.min)\n",
    "---"
   ]
  },
  {
   "cell_type": "code",
   "execution_count": 22,
   "metadata": {
    "slideshow": {
     "slide_type": "slide"
    }
   },
   "outputs": [
    {
     "data": {
      "text/html": [
       "<ol class=list-inline>\n",
       "\t<li>6</li>\n",
       "\t<li>51</li>\n",
       "</ol>\n"
      ],
      "text/latex": [
       "\\begin{enumerate*}\n",
       "\\item 6\n",
       "\\item 51\n",
       "\\end{enumerate*}\n"
      ],
      "text/markdown": [
       "1. 6\n",
       "2. 51\n",
       "\n",
       "\n"
      ],
      "text/plain": [
       "[1]  6 51"
      ]
     },
     "metadata": {},
     "output_type": "display_data"
    },
    {
     "name": "stderr",
     "output_type": "stream",
     "text": [
      "   [[ suppressing 51 column names ‘s0’, ‘s1’, ‘s2’ ... ]]\n"
     ]
    },
    {
     "data": {
      "text/plain": [
       "6 x 51 sparse Matrix of class \"dgCMatrix\"\n",
       "                                                                      \n",
       "(Intercept) -2.422139 -2.378260893 -2.35643562 -2.33583888 -2.31645447\n",
       "gender       .         .            .           .           .         \n",
       "monetary     .         .            .           .           .         \n",
       "recency      .        -0.005310784 -0.01028321 -0.01495486 -0.01934124\n",
       "frequency    .         0.006578271  0.01705053  0.02632195  0.03457430\n",
       "duration     .         .            .           .           .         \n",
       "                                                                       \n",
       "(Intercept) -2.29825359 -2.34653072 -2.39843474 -2.44502085 -2.48695867\n",
       "gender       .           0.05240721  0.10645778  0.15500274  0.19890079\n",
       "monetary     .           .           .           .           .         \n",
       "recency     -0.02345606 -0.02744459 -0.03119231 -0.03467109 -0.03793814\n",
       "frequency    0.04195143  0.04839211  0.05416543  0.05934828  0.06406347\n",
       "duration     .           .           .           .           .         \n",
       "                                                                           \n",
       "(Intercept) -2.52480509 -2.55902249 -2.59000623 -2.623076e+00 -2.6640669141\n",
       "gender       0.23860365  0.27457215  0.30720232  3.371657e-01  0.3650990047\n",
       "monetary     .           .           .           2.941969e-05  0.0001208688\n",
       "recency     -0.04098265 -0.04381601 -0.04644953 -4.889114e-02 -0.0511463578\n",
       "frequency    0.06833599  0.07221267  0.07573426  7.850723e-02  0.0800874089\n",
       "duration     .           .           .           .             .           \n",
       "                                                                   \n",
       "(Intercept) -2.7014169190 -2.7354786517 -2.7665503917 -2.7949002819\n",
       "gender       0.3905141104  0.4136498160  0.4347203199  0.4539169243\n",
       "monetary     0.0002043395  0.0002806317  0.0003503647  0.0004141008\n",
       "recency     -0.0532361335 -0.0551695724 -0.0569564840 -0.0586063113\n",
       "frequency    0.0815253671  0.0828323111  0.0840209503  0.0851025698\n",
       "duration     .             .             .             .           \n",
       "                                                                  \n",
       "(Intercept) -2.8207702640 -2.8443792484 -2.8659257616 -2.885590180\n",
       "gender       0.4714111639  0.4873573722  0.5018948008  0.515149390\n",
       "monetary     0.0004723524  0.0005255868  0.0005742308  0.000618675\n",
       "recency     -0.0601281129 -0.0615305514 -0.0628218844 -0.064009959\n",
       "frequency    0.0860872255  0.0869839144  0.0878007140  0.088544897\n",
       "duration     .             .             .             .          \n",
       "                                                                   \n",
       "(Intercept) -2.9035366353 -2.9199784724 -2.9349204766 -2.9485540571\n",
       "gender       0.5272352597  0.5382646001  0.5483136221  0.5574771231\n",
       "monetary     0.0006592766  0.0006967257  0.0007305743  0.0007614774\n",
       "recency     -0.0651022090 -0.0661058496 -0.0670270785 -0.0678723267\n",
       "frequency    0.0892230296  0.0898351598  0.0903987682  0.0909125854\n",
       "duration     .             .             .             .           \n",
       "                                                                   \n",
       "(Intercept) -2.9609938731 -2.9723436609 -2.9826981747 -2.9921439913\n",
       "gender       0.5658332665  0.5734530655  0.5804012423  0.5867368098\n",
       "monetary     0.0007896923  0.0008154497  0.0008389604  0.0008604178\n",
       "recency     -0.0686474361 -0.0693578550 -0.0700086669 -0.0706046060\n",
       "frequency    0.0913809608  0.0918079243  0.0921971431  0.0925519554\n",
       "duration     .             .             .             .           \n",
       "                                                                   \n",
       "(Intercept) -3.0007602217 -3.0086191568 -3.0157868534 -3.0225149653\n",
       "gender       0.5925135904  0.5977806821  0.6025828789  0.6068676808\n",
       "monetary     0.0008799988  0.0008978654  0.0009141662  0.0009310204\n",
       "recency     -0.0711500735 -0.0716491539 -0.0721056317 -0.0723522517\n",
       "frequency    0.0928754016  0.0931702516  0.0934390298  0.0944285413\n",
       "duration     .             .             .            -0.0001976140\n",
       "                                                                   \n",
       "(Intercept) -3.0298916775 -3.0366740668 -3.0428067959 -3.0483766420\n",
       "gender       0.6102025363  0.6132249632  0.6160044711  0.6185468615\n",
       "monetary     0.0009420108  0.0009515542  0.0009606505  0.0009690455\n",
       "recency     -0.0719180342 -0.0715017237 -0.0711419835 -0.0708207678\n",
       "frequency    0.0983197048  0.1019656434  0.1051970943  0.1081117352\n",
       "duration    -0.0010366037 -0.0018206183 -0.0025189611 -0.0031503513\n",
       "                                                                  \n",
       "(Intercept) -3.053490700 -3.0581066470 -3.0623467279 -3.0661684788\n",
       "gender       0.620844302  0.6229614131  0.6248735738  0.6266382823\n",
       "monetary     0.000976225  0.0009831848  0.0009891212  0.0009949455\n",
       "recency     -0.070509506 -0.0702450114 -0.0699877982 -0.0697719460\n",
       "frequency    0.110855409  0.1132667193  0.1155403435  0.1175260562\n",
       "duration    -0.003742448 -0.0042659420 -0.0047574748 -0.0051896885\n",
       "                                                                             \n",
       "(Intercept) -3.0696846110 -3.072848816 -3.075765345 -3.078384686 -3.080804008\n",
       "gender       0.6282294413  0.629700385  0.631024003  0.632250333  0.633351245\n",
       "monetary     0.0009998627  0.001004750  0.001008826  0.001012944  0.001016327\n",
       "recency     -0.0695594086 -0.069383580 -0.069207826 -0.069065103 -0.068919824\n",
       "frequency    0.1194100019  0.121043733  0.122605326  0.123947138  0.125241190\n",
       "duration    -0.0055976074 -0.005954101 -0.006292660 -0.006586217 -0.006867095\n",
       "                                                  \n",
       "(Intercept) -3.083019097 -3.084997030 -3.086825935\n",
       "gender       0.634349453  0.635280517  0.636114954\n",
       "monetary     0.001019286  0.001022431  0.001024984\n",
       "recency     -0.068782516 -0.068676278 -0.068566721\n",
       "frequency    0.126443559  0.127451065  0.128428892\n",
       "duration    -0.007127454 -0.007348396 -0.007560899"
      ]
     },
     "metadata": {},
     "output_type": "display_data"
    },
    {
     "data": {
      "text/html": [
       "0.00264859776068082"
      ],
      "text/latex": [
       "0.00264859776068082"
      ],
      "text/markdown": [
       "0.00264859776068082"
      ],
      "text/plain": [
       "[1] 0.002648598"
      ]
     },
     "metadata": {},
     "output_type": "display_data"
    }
   ],
   "source": [
    "model <- glmnet(x[train, ], y[train], family = 'binomial', alpha = 1)\n",
    "set.seed(1)\n",
    "cv.out <- cv.glmnet(x[train, ], y[train])\n",
    "dim(coef(model))\n",
    "coef(model) #51개의 lambda 값에 따른 모델 계수들의 변화\n",
    "cv.out$lambda.min"
   ]
  },
  {
   "cell_type": "markdown",
   "metadata": {
    "slideshow": {
     "slide_type": "slide"
    }
   },
   "source": [
    "- plotting을 통해 최적의 lambda 값과 모델의 계수를 시각화합니다.\n",
    "---"
   ]
  },
  {
   "cell_type": "code",
   "execution_count": 31,
   "metadata": {
    "slideshow": {
     "slide_type": "slide"
    }
   },
   "outputs": [
    {
     "data": {
      "image/png": "[encoded data removed]",
      "text/plain": [
       "Plot with title “”"
      ]
     },
     "metadata": {},
     "output_type": "display_data"
    }
   ],
   "source": [
    "library(plotmo)\n",
    "\n",
    "par(mfrow = c(2, 2))\n",
    "plot(model, label = TRUE)\n",
    "abline(v = cv.out$lambda.min, col = 'red')\n",
    "#legend('topright', lenged = ('id', 'gender', 'monetary', 'recency', 'frequency', 'duration'))\n",
    "plot(cv.out)\n",
    "library(plotmo)\n",
    "plot_glmnet(model)"
   ]
  },
  {
   "cell_type": "markdown",
   "metadata": {
    "slideshow": {
     "slide_type": "slide"
    }
   },
   "source": [
    "- type = 'coefficients' 설정으로 lasso regression 모델의 계수를 찾습니다. lasso 절차를 통해 duration이 purchase를 예측하는데 무의미한 변수인 것으로 나타났습니다. \n",
    "---"
   ]
  },
  {
   "cell_type": "code",
   "execution_count": 32,
   "metadata": {
    "slideshow": {
     "slide_type": "slide"
    }
   },
   "outputs": [
    {
     "data": {
      "text/html": [
       "2000"
      ],
      "text/latex": [
       "2000"
      ],
      "text/markdown": [
       "2000"
      ],
      "text/plain": [
       "[1] 2000"
      ]
     },
     "metadata": {},
     "output_type": "display_data"
    },
    {
     "data": {
      "text/html": [
       "2000"
      ],
      "text/latex": [
       "2000"
      ],
      "text/markdown": [
       "2000"
      ],
      "text/plain": [
       "[1] 2000"
      ]
     },
     "metadata": {},
     "output_type": "display_data"
    },
    {
     "data": {
      "text/html": [
       "-2.72489434043928"
      ],
      "text/latex": [
       "-2.72489434043928"
      ],
      "text/markdown": [
       "-2.72489434043928"
      ],
      "text/plain": [
       "[1] -2.724894"
      ]
     },
     "metadata": {},
     "output_type": "display_data"
    },
    {
     "data": {
      "text/plain": [
       "6 x 1 sparse Matrix of class \"dgCMatrix\"\n",
       "                        1\n",
       "(Intercept) -2.9723436609\n",
       "gender       0.5734530655\n",
       "monetary     0.0008154497\n",
       "recency     -0.0693578550\n",
       "frequency    0.0918079243\n",
       "duration     .           "
      ]
     },
     "metadata": {},
     "output_type": "display_data"
    }
   ],
   "source": [
    "set.seed(1)\n",
    "pred <- predict(model, newx = x[test, ], s = cv.out$lambda.min)\n",
    "length(pred)\n",
    "length(y[test])\n",
    "mean(pred - y[test])\n",
    "lasso.coef <- predict(model, type = 'coefficients', newx = x[test,], s = cv.out$lambda.min)\n",
    "lasso.coef"
   ]
  },
  {
   "cell_type": "markdown",
   "metadata": {
    "slideshow": {
     "slide_type": "slide"
    }
   },
   "source": [
    "- type = 'coefficients' 설정으로 test set 내 데이터들의 purchase가 1일 확률을 도출합니다.\n",
    "---"
   ]
  },
  {
   "cell_type": "code",
   "execution_count": 33,
   "metadata": {
    "slideshow": {
     "slide_type": "slide"
    }
   },
   "outputs": [
    {
     "data": {
      "text/html": [
       "2000"
      ],
      "text/latex": [
       "2000"
      ],
      "text/markdown": [
       "2000"
      ],
      "text/plain": [
       "[1] 2000"
      ]
     },
     "metadata": {},
     "output_type": "display_data"
    },
    {
     "data": {
      "text/plain": [
       "       1           \n",
       " Min.   :0.008597  \n",
       " 1st Qu.:0.044181  \n",
       " Median :0.068561  \n",
       " Mean   :0.079839  \n",
       " 3rd Qu.:0.101384  \n",
       " Max.   :0.357923  "
      ]
     },
     "metadata": {},
     "output_type": "display_data"
    },
    {
     "data": {
      "text/html": [
       "<table>\n",
       "<thead><tr><th scope=col>1</th></tr></thead>\n",
       "<tbody>\n",
       "\t<tr><td>0.06911582</td></tr>\n",
       "\t<tr><td>0.06182266</td></tr>\n",
       "\t<tr><td>0.06501187</td></tr>\n",
       "\t<tr><td>0.09575021</td></tr>\n",
       "\t<tr><td>0.07615882</td></tr>\n",
       "\t<tr><td>0.09733473</td></tr>\n",
       "</tbody>\n",
       "</table>\n"
      ],
      "text/latex": [
       "\\begin{tabular}{l}\n",
       " 1\\\\\n",
       "\\hline\n",
       "\t 0.06911582\\\\\n",
       "\t 0.06182266\\\\\n",
       "\t 0.06501187\\\\\n",
       "\t 0.09575021\\\\\n",
       "\t 0.07615882\\\\\n",
       "\t 0.09733473\\\\\n",
       "\\end{tabular}\n"
      ],
      "text/markdown": [
       "\n",
       "1 | \n",
       "|---|---|---|---|---|---|\n",
       "| 0.06911582 | \n",
       "| 0.06182266 | \n",
       "| 0.06501187 | \n",
       "| 0.09575021 | \n",
       "| 0.07615882 | \n",
       "| 0.09733473 | \n",
       "\n",
       "\n"
      ],
      "text/plain": [
       "     1         \n",
       "[1,] 0.06911582\n",
       "[2,] 0.06182266\n",
       "[3,] 0.06501187\n",
       "[4,] 0.09575021\n",
       "[5,] 0.07615882\n",
       "[6,] 0.09733473"
      ]
     },
     "metadata": {},
     "output_type": "display_data"
    },
    {
     "data": {
      "text/html": [
       "-2.72489434043928"
      ],
      "text/latex": [
       "-2.72489434043928"
      ],
      "text/markdown": [
       "-2.72489434043928"
      ],
      "text/plain": [
       "[1] -2.724894"
      ]
     },
     "metadata": {},
     "output_type": "display_data"
    }
   ],
   "source": [
    "lasso.p <- predict(model, type = 'response', newx = x[test,], s = cv.out$lambda.min)\n",
    "length(lasso.p)\n",
    "summary(lasso.p)\n",
    "head(lasso.p) # 도출된 확률값 열\n",
    "#length(pred)\n",
    "#length(y[test])\n",
    "mean(pred - y[test])"
   ]
  },
  {
   "cell_type": "markdown",
   "metadata": {
    "slideshow": {
     "slide_type": "slide"
    }
   },
   "source": [
    "- 모델로 예측해 나온 test set의 'pusrchase 값이 1일 확률'을 토대로 상위 500명을 뽑아 봅니다. 이들의 실제 purchase 값을 비교해 본 결과, 92명은 1을 기록하고 있습니다. 이들에게 카탈로그를 보낸다면 18.4%의 구매 반응률을 볼 수 있습니다. 0번의 로지스틱 회귀모형보다 0.6% 높은 예측률을 가짐을 볼 수 있습니다.\n",
    "---"
   ]
  },
  {
   "cell_type": "code",
   "execution_count": 34,
   "metadata": {
    "slideshow": {
     "slide_type": "slide"
    }
   },
   "outputs": [
    {
     "data": {
      "text/html": [
       "<table>\n",
       "<thead><tr><th></th><th scope=col>gender</th><th scope=col>monetary</th><th scope=col>recency</th><th scope=col>frequency</th><th scope=col>duration</th><th scope=col>purchase</th><th scope=col>prob</th></tr></thead>\n",
       "<tbody>\n",
       "\t<tr><th scope=row>2699</th><td>2        </td><td>341      </td><td>2        </td><td>12       </td><td>40       </td><td>1        </td><td>0.4206533</td></tr>\n",
       "\t<tr><th scope=row>3773</th><td>2        </td><td>412      </td><td>2        </td><td>11       </td><td>28       </td><td>0        </td><td>0.4337259</td></tr>\n",
       "\t<tr><th scope=row>3067</th><td>2        </td><td>408      </td><td>2        </td><td>11       </td><td>46       </td><td>0        </td><td>0.3899471</td></tr>\n",
       "\t<tr><th scope=row>2221</th><td>2        </td><td>253      </td><td>2        </td><td>12       </td><td>70       </td><td>0        </td><td>0.3302925</td></tr>\n",
       "\t<tr><th scope=row>2102</th><td>2        </td><td>401      </td><td>4        </td><td>12       </td><td>70       </td><td>0        </td><td>0.3348497</td></tr>\n",
       "\t<tr><th scope=row>3901</th><td>2        </td><td>282      </td><td>2        </td><td>11       </td><td>50       </td><td>0        </td><td>0.3500148</td></tr>\n",
       "</tbody>\n",
       "</table>\n"
      ],
      "text/latex": [
       "\\begin{tabular}{r|lllllll}\n",
       "  & gender & monetary & recency & frequency & duration & purchase & prob\\\\\n",
       "\\hline\n",
       "\t2699 & 2         & 341       & 2         & 12        & 40        & 1         & 0.4206533\\\\\n",
       "\t3773 & 2         & 412       & 2         & 11        & 28        & 0         & 0.4337259\\\\\n",
       "\t3067 & 2         & 408       & 2         & 11        & 46        & 0         & 0.3899471\\\\\n",
       "\t2221 & 2         & 253       & 2         & 12        & 70        & 0         & 0.3302925\\\\\n",
       "\t2102 & 2         & 401       & 4         & 12        & 70        & 0         & 0.3348497\\\\\n",
       "\t3901 & 2         & 282       & 2         & 11        & 50        & 0         & 0.3500148\\\\\n",
       "\\end{tabular}\n"
      ],
      "text/markdown": [
       "\n",
       "| <!--/--> | gender | monetary | recency | frequency | duration | purchase | prob | \n",
       "|---|---|---|---|---|---|\n",
       "| 2699 | 2         | 341       | 2         | 12        | 40        | 1         | 0.4206533 | \n",
       "| 3773 | 2         | 412       | 2         | 11        | 28        | 0         | 0.4337259 | \n",
       "| 3067 | 2         | 408       | 2         | 11        | 46        | 0         | 0.3899471 | \n",
       "| 2221 | 2         | 253       | 2         | 12        | 70        | 0         | 0.3302925 | \n",
       "| 2102 | 2         | 401       | 4         | 12        | 70        | 0         | 0.3348497 | \n",
       "| 3901 | 2         | 282       | 2         | 11        | 50        | 0         | 0.3500148 | \n",
       "\n",
       "\n"
      ],
      "text/plain": [
       "     gender monetary recency frequency duration purchase prob     \n",
       "2699 2      341      2       12        40       1        0.4206533\n",
       "3773 2      412      2       11        28       0        0.4337259\n",
       "3067 2      408      2       11        46       0        0.3899471\n",
       "2221 2      253      2       12        70       0        0.3302925\n",
       "2102 2      401      4       12        70       0        0.3348497\n",
       "3901 2      282      2       11        50       0        0.3500148"
      ]
     },
     "metadata": {},
     "output_type": "display_data"
    },
    {
     "data": {
      "text/plain": [
       "\n",
       "FALSE  TRUE \n",
       "  408    92 "
      ]
     },
     "metadata": {},
     "output_type": "display_data"
    }
   ],
   "source": [
    "idx1 <- order(lasso.p, decreasing = T) # purchase가 1일 확률이 높은 순서로 정렬\n",
    "ordered_tset1 <- tset[idx1, ]\n",
    "head(ordered_tset1[1:500,])\n",
    "table(ordered_tset1[1:500, ]$purchase == 1)"
   ]
  },
  {
   "cell_type": "markdown",
   "metadata": {},
   "source": [
    "-----------_"
   ]
  },
  {
   "cell_type": "markdown",
   "metadata": {},
   "source": [
    "3. duration 변수를 제외한 로지스틱 회귀분석\n",
    "===\n",
    "- lasso 절차를 통해 유의미한 변수에서 탈락한 duration을 제외 후 로지스틱 회귀분석을 시행합니다.\n",
    "\n",
    "--------"
   ]
  },
  {
   "cell_type": "code",
   "execution_count": 40,
   "metadata": {},
   "outputs": [
    {
     "name": "stdout",
     "output_type": "stream",
     "text": [
      "'data.frame':\t4000 obs. of  5 variables:\n",
      " $ gender   : num  2 1 1 1 1 2 1 1 1 1 ...\n",
      " $ monetary : int  138 172 272 149 113 15 238 418 123 294 ...\n",
      " $ recency  : int  28 16 8 16 8 26 2 6 12 6 ...\n",
      " $ frequency: int  3 2 1 1 1 1 11 11 1 2 ...\n",
      " $ purchase : int  0 0 0 0 1 0 0 1 0 0 ...\n"
     ]
    }
   ],
   "source": [
    "data3 <- data0[, -5]\n",
    "str(data3)\n",
    "trset3 <- data3[1:2000,]\n",
    "tset3 <- data3[2001:4000,]"
   ]
  },
  {
   "cell_type": "code",
   "execution_count": 41,
   "metadata": {},
   "outputs": [
    {
     "data": {
      "text/plain": [
       "\n",
       "Call:\n",
       "glm(formula = purchase ~ ., family = binomial, data = trset3)\n",
       "\n",
       "Deviance Residuals: \n",
       "    Min       1Q   Median       3Q      Max  \n",
       "-0.9653  -0.4458  -0.3470  -0.2642   3.0250  \n",
       "\n",
       "Coefficients:\n",
       "              Estimate Std. Error z value Pr(>|z|)    \n",
       "(Intercept) -3.0897186  0.3429373  -9.010  < 2e-16 ***\n",
       "gender       0.6520261  0.1720912   3.789 0.000151 ***\n",
       "monetary     0.0010826  0.0009584   1.130 0.258655    \n",
       "recency     -0.0768863  0.0131460  -5.849 4.96e-09 ***\n",
       "frequency    0.0962040  0.0251020   3.833 0.000127 ***\n",
       "---\n",
       "Signif. codes:  0 ‘***’ 0.001 ‘**’ 0.01 ‘*’ 0.05 ‘.’ 0.1 ‘ ’ 1\n",
       "\n",
       "(Dispersion parameter for binomial family taken to be 1)\n",
       "\n",
       "    Null deviance: 1129.7  on 1999  degrees of freedom\n",
       "Residual deviance: 1047.0  on 1995  degrees of freedom\n",
       "AIC: 1057\n",
       "\n",
       "Number of Fisher Scoring iterations: 6\n"
      ]
     },
     "metadata": {},
     "output_type": "display_data"
    }
   ],
   "source": [
    "glm.fit3 = glm(purchase~., data = trset3, family = binomial)\n",
    "set.seed(1)\n",
    "glm.probs3 = predict(glm.fit3,  type = 'response', tset3)\n",
    "#glm.probs4[1:10]\n",
    "summary(glm.fit3)"
   ]
  },
  {
   "cell_type": "markdown",
   "metadata": {},
   "source": [
    "- 모델로 예측해 나온 test set의 'pusrchase 값이 1일 확률'을 토대로 상위 500명을 뽑아 봅니다. 이들의 실제 purchase 값을 비교해 본 결과, 92명은 1을 기록하고 있습니다. 이들에게 카탈로그를 보낸다면 18.4%의 구매 반응률을 볼 수 있습니다.\n",
    "---"
   ]
  },
  {
   "cell_type": "code",
   "execution_count": 42,
   "metadata": {},
   "outputs": [
    {
     "name": "stdout",
     "output_type": "stream",
     "text": [
      " int [1:2000] 699 1773 1067 102 221 1901 790 440 963 541 ...\n"
     ]
    },
    {
     "data": {
      "text/html": [
       "<ol class=list-inline>\n",
       "\t<li>699</li>\n",
       "\t<li>1773</li>\n",
       "\t<li>1067</li>\n",
       "\t<li>102</li>\n",
       "\t<li>221</li>\n",
       "\t<li>1901</li>\n",
       "</ol>\n"
      ],
      "text/latex": [
       "\\begin{enumerate*}\n",
       "\\item 699\n",
       "\\item 1773\n",
       "\\item 1067\n",
       "\\item 102\n",
       "\\item 221\n",
       "\\item 1901\n",
       "\\end{enumerate*}\n"
      ],
      "text/markdown": [
       "1. 699\n",
       "2. 1773\n",
       "3. 1067\n",
       "4. 102\n",
       "5. 221\n",
       "6. 1901\n",
       "\n",
       "\n"
      ],
      "text/plain": [
       "[1]  699 1773 1067  102  221 1901"
      ]
     },
     "metadata": {},
     "output_type": "display_data"
    },
    {
     "data": {
      "text/html": [
       "<table>\n",
       "<thead><tr><th></th><th scope=col>gender</th><th scope=col>monetary</th><th scope=col>recency</th><th scope=col>frequency</th><th scope=col>purchase</th><th scope=col>prob</th></tr></thead>\n",
       "<tbody>\n",
       "\t<tr><th scope=row>2699</th><td>2        </td><td>341      </td><td>2        </td><td>12       </td><td>1        </td><td>0.3975163</td></tr>\n",
       "\t<tr><th scope=row>3773</th><td>2        </td><td>412      </td><td>2        </td><td>11       </td><td>0        </td><td>0.3928938</td></tr>\n",
       "\t<tr><th scope=row>3067</th><td>2        </td><td>408      </td><td>2        </td><td>11       </td><td>0        </td><td>0.3918613</td></tr>\n",
       "\t<tr><th scope=row>2102</th><td>2        </td><td>401      </td><td>4        </td><td>12       </td><td>0        </td><td>0.3764505</td></tr>\n",
       "\t<tr><th scope=row>2221</th><td>2        </td><td>253      </td><td>2        </td><td>12       </td><td>0        </td><td>0.3749372</td></tr>\n",
       "\t<tr><th scope=row>3901</th><td>2        </td><td>282      </td><td>2        </td><td>11       </td><td>0        </td><td>0.3598761</td></tr>\n",
       "</tbody>\n",
       "</table>\n"
      ],
      "text/latex": [
       "\\begin{tabular}{r|llllll}\n",
       "  & gender & monetary & recency & frequency & purchase & prob\\\\\n",
       "\\hline\n",
       "\t2699 & 2         & 341       & 2         & 12        & 1         & 0.3975163\\\\\n",
       "\t3773 & 2         & 412       & 2         & 11        & 0         & 0.3928938\\\\\n",
       "\t3067 & 2         & 408       & 2         & 11        & 0         & 0.3918613\\\\\n",
       "\t2102 & 2         & 401       & 4         & 12        & 0         & 0.3764505\\\\\n",
       "\t2221 & 2         & 253       & 2         & 12        & 0         & 0.3749372\\\\\n",
       "\t3901 & 2         & 282       & 2         & 11        & 0         & 0.3598761\\\\\n",
       "\\end{tabular}\n"
      ],
      "text/markdown": [
       "\n",
       "| <!--/--> | gender | monetary | recency | frequency | purchase | prob | \n",
       "|---|---|---|---|---|---|\n",
       "| 2699 | 2         | 341       | 2         | 12        | 1         | 0.3975163 | \n",
       "| 3773 | 2         | 412       | 2         | 11        | 0         | 0.3928938 | \n",
       "| 3067 | 2         | 408       | 2         | 11        | 0         | 0.3918613 | \n",
       "| 2102 | 2         | 401       | 4         | 12        | 0         | 0.3764505 | \n",
       "| 2221 | 2         | 253       | 2         | 12        | 0         | 0.3749372 | \n",
       "| 3901 | 2         | 282       | 2         | 11        | 0         | 0.3598761 | \n",
       "\n",
       "\n"
      ],
      "text/plain": [
       "     gender monetary recency frequency purchase prob     \n",
       "2699 2      341      2       12        1        0.3975163\n",
       "3773 2      412      2       11        0        0.3928938\n",
       "3067 2      408      2       11        0        0.3918613\n",
       "2102 2      401      4       12        0        0.3764505\n",
       "2221 2      253      2       12        0        0.3749372\n",
       "3901 2      282      2       11        0        0.3598761"
      ]
     },
     "metadata": {},
     "output_type": "display_data"
    },
    {
     "data": {
      "text/plain": [
       "\n",
       "FALSE  TRUE \n",
       "  408    92 "
      ]
     },
     "metadata": {},
     "output_type": "display_data"
    }
   ],
   "source": [
    "tset3$prob <- glm.probs3\n",
    "idx3 <- order(tset3$prob, decreasing = T)\n",
    "str(idx3)\n",
    "head(idx3)\n",
    "\n",
    "ordered_tset3 <- tset3[idx3, ]\n",
    "head(ordered_tset3[1:500,])\n",
    "table(ordered_tset3[1:500, ]$purchase == 1)"
   ]
  },
  {
   "cell_type": "markdown",
   "metadata": {},
   "source": [
    "------------"
   ]
  },
  {
   "cell_type": "markdown",
   "metadata": {
    "slideshow": {
     "slide_type": "slide"
    }
   },
   "source": [
    "4. Stepwise\n",
    "=====\n",
    "- 또 다른 변수선택법인 stepwise 절차를 수행합니다. gender와 recency, frequency를 purchase 예측을 위한 유의미한 변수로 선정합니다."
   ]
  },
  {
   "cell_type": "code",
   "execution_count": 43,
   "metadata": {
    "slideshow": {
     "slide_type": "slide"
    }
   },
   "outputs": [
    {
     "name": "stdout",
     "output_type": "stream",
     "text": [
      "Start:  AIC=1058.19\n",
      "purchase ~ gender + monetary + recency + frequency + duration\n",
      "\n",
      "            Df Deviance    AIC\n",
      "- duration   1   1047.0 1057.0\n",
      "- monetary   1   1047.4 1057.4\n",
      "<none>           1046.2 1058.2\n",
      "- frequency  1   1052.5 1062.5\n",
      "- gender     1   1059.7 1069.7\n",
      "- recency    1   1062.9 1072.9\n",
      "\n",
      "Step:  AIC=1056.96\n",
      "purchase ~ gender + monetary + recency + frequency\n",
      "\n",
      "            Df Deviance    AIC\n",
      "- monetary   1   1048.2 1056.2\n",
      "<none>           1047.0 1057.0\n",
      "+ duration   1   1046.2 1058.2\n",
      "- gender     1   1060.8 1068.8\n",
      "- frequency  1   1061.4 1069.4\n",
      "- recency    1   1088.5 1096.5\n",
      "\n",
      "Step:  AIC=1056.24\n",
      "purchase ~ gender + recency + frequency\n",
      "\n",
      "            Df Deviance    AIC\n",
      "<none>           1048.2 1056.2\n",
      "+ monetary   1   1047.0 1057.0\n",
      "+ duration   1   1047.4 1057.4\n",
      "- gender     1   1061.6 1067.6\n",
      "- frequency  1   1075.3 1081.3\n",
      "- recency    1   1089.9 1095.9\n"
     ]
    },
    {
     "data": {
      "text/plain": [
       "\n",
       "Call:\n",
       "glm(formula = purchase ~ gender + recency + frequency, family = binomial, \n",
       "    data = trset)\n",
       "\n",
       "Deviance Residuals: \n",
       "    Min       1Q   Median       3Q      Max  \n",
       "-0.9994  -0.4412  -0.3492  -0.2651   3.0044  \n",
       "\n",
       "Coefficients:\n",
       "            Estimate Std. Error z value Pr(>|z|)    \n",
       "(Intercept) -2.90285    0.29855  -9.723  < 2e-16 ***\n",
       "gender       0.64005    0.17166   3.729 0.000193 ***\n",
       "recency     -0.07697    0.01315  -5.853 4.82e-09 ***\n",
       "frequency    0.11187    0.02098   5.332 9.71e-08 ***\n",
       "---\n",
       "Signif. codes:  0 ‘***’ 0.001 ‘**’ 0.01 ‘*’ 0.05 ‘.’ 0.1 ‘ ’ 1\n",
       "\n",
       "(Dispersion parameter for binomial family taken to be 1)\n",
       "\n",
       "    Null deviance: 1129.7  on 1999  degrees of freedom\n",
       "Residual deviance: 1048.2  on 1996  degrees of freedom\n",
       "AIC: 1056.2\n",
       "\n",
       "Number of Fisher Scoring iterations: 6\n"
      ]
     },
     "metadata": {},
     "output_type": "display_data"
    }
   ],
   "source": [
    "slm = step(glm.fit0, direction = 'both') # both: stepwise\n",
    "summary(slm) # AIC가 가장 작은 모델 내 변수를 사용"
   ]
  },
  {
   "cell_type": "markdown",
   "metadata": {},
   "source": [
    "----------"
   ]
  },
  {
   "cell_type": "markdown",
   "metadata": {},
   "source": [
    "5. gender, recency, frequency 변수를 통한 로지스틱 회귀분석\n",
    "===\n",
    "- stepwise 절차를 통해 유의미한 변수로 선정된 3개의 변수로 로지스틱 회귀분석을 시행합니다."
   ]
  },
  {
   "cell_type": "code",
   "execution_count": 45,
   "metadata": {
    "slideshow": {
     "slide_type": "slide"
    }
   },
   "outputs": [
    {
     "name": "stdout",
     "output_type": "stream",
     "text": [
      "'data.frame':\t4000 obs. of  6 variables:\n",
      " $ gender   : num  2 1 1 1 1 2 1 1 1 1 ...\n",
      " $ monetary : int  138 172 272 149 113 15 238 418 123 294 ...\n",
      " $ recency  : int  28 16 8 16 8 26 2 6 12 6 ...\n",
      " $ frequency: int  3 2 1 1 1 1 11 11 1 2 ...\n",
      " $ duration : int  40 20 8 16 8 26 42 66 12 8 ...\n",
      " $ purchase : int  0 0 0 0 1 0 0 1 0 0 ...\n",
      "'data.frame':\t4000 obs. of  4 variables:\n",
      " $ gender   : num  2 1 1 1 1 2 1 1 1 1 ...\n",
      " $ recency  : int  28 16 8 16 8 26 2 6 12 6 ...\n",
      " $ frequency: int  3 2 1 1 1 1 11 11 1 2 ...\n",
      " $ purchase : int  0 0 0 0 1 0 0 1 0 0 ...\n"
     ]
    }
   ],
   "source": [
    "str(data0)\n",
    "# gender, recency, frequency 변수만으로 purchase를 예측하기 위한 전처리\n",
    "data5 <- data0[, c(1, 3, 4, 6)]\n",
    "str(data5)\n",
    "trset5 <- data5[1:2000,]\n",
    "tset5 <- data5[2001:4000,]"
   ]
  },
  {
   "cell_type": "code",
   "execution_count": 48,
   "metadata": {
    "slideshow": {
     "slide_type": "slide"
    }
   },
   "outputs": [
    {
     "data": {
      "text/plain": [
       "\n",
       "Call:\n",
       "glm(formula = purchase ~ ., family = binomial, data = trset5)\n",
       "\n",
       "Deviance Residuals: \n",
       "    Min       1Q   Median       3Q      Max  \n",
       "-0.9994  -0.4412  -0.3492  -0.2651   3.0044  \n",
       "\n",
       "Coefficients:\n",
       "            Estimate Std. Error z value Pr(>|z|)    \n",
       "(Intercept) -2.90285    0.29855  -9.723  < 2e-16 ***\n",
       "gender       0.64005    0.17166   3.729 0.000193 ***\n",
       "recency     -0.07697    0.01315  -5.853 4.82e-09 ***\n",
       "frequency    0.11187    0.02098   5.332 9.71e-08 ***\n",
       "---\n",
       "Signif. codes:  0 ‘***’ 0.001 ‘**’ 0.01 ‘*’ 0.05 ‘.’ 0.1 ‘ ’ 1\n",
       "\n",
       "(Dispersion parameter for binomial family taken to be 1)\n",
       "\n",
       "    Null deviance: 1129.7  on 1999  degrees of freedom\n",
       "Residual deviance: 1048.2  on 1996  degrees of freedom\n",
       "AIC: 1056.2\n",
       "\n",
       "Number of Fisher Scoring iterations: 6\n"
      ]
     },
     "metadata": {},
     "output_type": "display_data"
    },
    {
     "data": {
      "text/html": [
       "<dl class=dl-horizontal>\n",
       "\t<dt>2001</dt>\n",
       "\t\t<dd>0.0605134643730996</dd>\n",
       "\t<dt>2002</dt>\n",
       "\t\t<dd>0.0568506418687201</dd>\n",
       "\t<dt>2003</dt>\n",
       "\t\t<dd>0.0621087478341899</dd>\n",
       "\t<dt>2004</dt>\n",
       "\t\t<dd>0.0927409579707342</dd>\n",
       "\t<dt>2005</dt>\n",
       "\t\t<dd>0.0683210274909972</dd>\n",
       "\t<dt>2006</dt>\n",
       "\t\t<dd>0.0953986445073527</dd>\n",
       "\t<dt>2007</dt>\n",
       "\t\t<dd>0.0573836382546987</dd>\n",
       "\t<dt>2008</dt>\n",
       "\t\t<dd>0.0873087190504796</dd>\n",
       "\t<dt>2009</dt>\n",
       "\t\t<dd>0.0568506418687201</dd>\n",
       "\t<dt>2010</dt>\n",
       "\t\t<dd>0.0757953009760804</dd>\n",
       "</dl>\n"
      ],
      "text/latex": [
       "\\begin{description*}\n",
       "\\item[2001] 0.0605134643730996\n",
       "\\item[2002] 0.0568506418687201\n",
       "\\item[2003] 0.0621087478341899\n",
       "\\item[2004] 0.0927409579707342\n",
       "\\item[2005] 0.0683210274909972\n",
       "\\item[2006] 0.0953986445073527\n",
       "\\item[2007] 0.0573836382546987\n",
       "\\item[2008] 0.0873087190504796\n",
       "\\item[2009] 0.0568506418687201\n",
       "\\item[2010] 0.0757953009760804\n",
       "\\end{description*}\n"
      ],
      "text/markdown": [
       "2001\n",
       ":   0.06051346437309962002\n",
       ":   0.05685064186872012003\n",
       ":   0.06210874783418992004\n",
       ":   0.09274095797073422005\n",
       ":   0.06832102749099722006\n",
       ":   0.09539864450735272007\n",
       ":   0.05738363825469872008\n",
       ":   0.08730871905047962009\n",
       ":   0.05685064186872012010\n",
       ":   0.0757953009760804\n",
       "\n"
      ],
      "text/plain": [
       "      2001       2002       2003       2004       2005       2006       2007 \n",
       "0.06051346 0.05685064 0.06210875 0.09274096 0.06832103 0.09539864 0.05738364 \n",
       "      2008       2009       2010 \n",
       "0.08730872 0.05685064 0.07579530 "
      ]
     },
     "metadata": {},
     "output_type": "display_data"
    }
   ],
   "source": [
    "glm.fit5 = glm(purchase~., data = trset5, family = binomial)\n",
    "set.seed(1)\n",
    "summary(glm.fit5)\n",
    "glm.probs5 = predict(glm.fit5,  type = 'response', tset5)\n",
    "glm.probs5[1:10]"
   ]
  },
  {
   "cell_type": "markdown",
   "metadata": {},
   "source": [
    "- 모델로 예측해 나온 test set의 'pusrchase 값이 1일 확률'을 토대로 상위 500명을 뽑아 봅니다. 이들의 실제 purchase 값을 비교해 본 결과, 91명은 1을 기록하고 있습니다. 이들에게 카탈로그를 보낸다면 18.2%의 구매 반응률을 볼 수 있습니다.\n",
    "---"
   ]
  },
  {
   "cell_type": "code",
   "execution_count": 49,
   "metadata": {
    "slideshow": {
     "slide_type": "slide"
    }
   },
   "outputs": [
    {
     "name": "stdout",
     "output_type": "stream",
     "text": [
      " int [1:2000] 221 699 1067 1773 1901 102 790 541 440 1414 ...\n"
     ]
    },
    {
     "data": {
      "text/html": [
       "<ol class=list-inline>\n",
       "\t<li>221</li>\n",
       "\t<li>699</li>\n",
       "\t<li>1067</li>\n",
       "\t<li>1773</li>\n",
       "\t<li>1901</li>\n",
       "\t<li>102</li>\n",
       "</ol>\n"
      ],
      "text/latex": [
       "\\begin{enumerate*}\n",
       "\\item 221\n",
       "\\item 699\n",
       "\\item 1067\n",
       "\\item 1773\n",
       "\\item 1901\n",
       "\\item 102\n",
       "\\end{enumerate*}\n"
      ],
      "text/markdown": [
       "1. 221\n",
       "2. 699\n",
       "3. 1067\n",
       "4. 1773\n",
       "5. 1901\n",
       "6. 102\n",
       "\n",
       "\n"
      ],
      "text/plain": [
       "[1]  221  699 1067 1773 1901  102"
      ]
     },
     "metadata": {},
     "output_type": "display_data"
    },
    {
     "data": {
      "text/html": [
       "<table>\n",
       "<thead><tr><th></th><th scope=col>gender</th><th scope=col>recency</th><th scope=col>frequency</th><th scope=col>purchase</th><th scope=col>prob</th></tr></thead>\n",
       "<tbody>\n",
       "\t<tr><th scope=row>2221</th><td>2        </td><td>2        </td><td>12       </td><td>0        </td><td>0.3931214</td></tr>\n",
       "\t<tr><th scope=row>2699</th><td>2        </td><td>2        </td><td>12       </td><td>1        </td><td>0.3931214</td></tr>\n",
       "\t<tr><th scope=row>3067</th><td>2        </td><td>2        </td><td>11       </td><td>0        </td><td>0.3667735</td></tr>\n",
       "\t<tr><th scope=row>3773</th><td>2        </td><td>2        </td><td>11       </td><td>0        </td><td>0.3667735</td></tr>\n",
       "\t<tr><th scope=row>3901</th><td>2        </td><td>2        </td><td>11       </td><td>0        </td><td>0.3667735</td></tr>\n",
       "\t<tr><th scope=row>2102</th><td>2        </td><td>4        </td><td>12       </td><td>0        </td><td>0.3570571</td></tr>\n",
       "</tbody>\n",
       "</table>\n"
      ],
      "text/latex": [
       "\\begin{tabular}{r|lllll}\n",
       "  & gender & recency & frequency & purchase & prob\\\\\n",
       "\\hline\n",
       "\t2221 & 2         & 2         & 12        & 0         & 0.3931214\\\\\n",
       "\t2699 & 2         & 2         & 12        & 1         & 0.3931214\\\\\n",
       "\t3067 & 2         & 2         & 11        & 0         & 0.3667735\\\\\n",
       "\t3773 & 2         & 2         & 11        & 0         & 0.3667735\\\\\n",
       "\t3901 & 2         & 2         & 11        & 0         & 0.3667735\\\\\n",
       "\t2102 & 2         & 4         & 12        & 0         & 0.3570571\\\\\n",
       "\\end{tabular}\n"
      ],
      "text/markdown": [
       "\n",
       "| <!--/--> | gender | recency | frequency | purchase | prob | \n",
       "|---|---|---|---|---|---|\n",
       "| 2221 | 2         | 2         | 12        | 0         | 0.3931214 | \n",
       "| 2699 | 2         | 2         | 12        | 1         | 0.3931214 | \n",
       "| 3067 | 2         | 2         | 11        | 0         | 0.3667735 | \n",
       "| 3773 | 2         | 2         | 11        | 0         | 0.3667735 | \n",
       "| 3901 | 2         | 2         | 11        | 0         | 0.3667735 | \n",
       "| 2102 | 2         | 4         | 12        | 0         | 0.3570571 | \n",
       "\n",
       "\n"
      ],
      "text/plain": [
       "     gender recency frequency purchase prob     \n",
       "2221 2      2       12        0        0.3931214\n",
       "2699 2      2       12        1        0.3931214\n",
       "3067 2      2       11        0        0.3667735\n",
       "3773 2      2       11        0        0.3667735\n",
       "3901 2      2       11        0        0.3667735\n",
       "2102 2      4       12        0        0.3570571"
      ]
     },
     "metadata": {},
     "output_type": "display_data"
    },
    {
     "data": {
      "text/plain": [
       "\n",
       "FALSE  TRUE \n",
       "  409    91 "
      ]
     },
     "metadata": {},
     "output_type": "display_data"
    }
   ],
   "source": [
    "tset5$prob <- glm.probs5\n",
    "#head(data0$prob)\n",
    "idx5 <- order(tset5$prob, decreasing = T)\n",
    "str(idx5)\n",
    "head(idx5)\n",
    "\n",
    "ordered_tset5 <- tset5[idx5, ]\n",
    "head(ordered_tset5[1:500,])\n",
    "table(ordered_tset5[1:500, ]$purchase == 1)"
   ]
  }
 ],
 "metadata": {
  "kernelspec": {
   "display_name": "R",
   "language": "R",
   "name": "ir"
  },
  "language_info": {
   "codemirror_mode": "r",
   "file_extension": ".r",
   "mimetype": "text/x-r-source",
   "name": "R",
   "pygments_lexer": "r",
   "version": "3.4.0"
  }
 },
 "nbformat": 4,
 "nbformat_minor": 2
}
